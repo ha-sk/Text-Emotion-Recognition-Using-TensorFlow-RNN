{
 "cells": [
  {
   "cell_type": "markdown",
   "metadata": {
    "id": "2nIVstiAMmQY"
   },
   "source": [
    "# **1.Importing all the libraries needed**"
   ]
  },
  {
   "cell_type": "code",
   "execution_count": null,
   "metadata": {
    "colab": {
     "base_uri": "https://localhost:8080/"
    },
    "executionInfo": {
     "elapsed": 11435,
     "status": "ok",
     "timestamp": 1642105424442,
     "user": {
      "displayName": "hafida hidani",
      "photoUrl": "https://lh3.googleusercontent.com/a/default-user=s64",
      "userId": "05618405513311899808"
     },
     "user_tz": -60
    },
    "id": "yjWJ0FMAHhu9",
    "outputId": "aac10ae0-f1ce-4395-9e87-9d174ab47af3"
   },
   "outputs": [
    {
     "name": "stdout",
     "output_type": "stream",
     "text": [
      "Collecting text_hammer\n",
      "  Downloading text_hammer-0.1.5-py3-none-any.whl (7.6 kB)\n",
      "Requirement already satisfied: TextBlob in /usr/local/lib/python3.7/dist-packages (from text_hammer) (0.15.3)\n",
      "Requirement already satisfied: pandas in /usr/local/lib/python3.7/dist-packages (from text_hammer) (1.1.5)\n",
      "Collecting beautifulsoup4==4.9.1\n",
      "  Downloading beautifulsoup4-4.9.1-py3-none-any.whl (115 kB)\n",
      "\u001b[K     |████████████████████████████████| 115 kB 7.9 MB/s \n",
      "\u001b[?25hRequirement already satisfied: spacy in /usr/local/lib/python3.7/dist-packages (from text_hammer) (2.2.4)\n",
      "Requirement already satisfied: numpy in /usr/local/lib/python3.7/dist-packages (from text_hammer) (1.19.5)\n",
      "Collecting soupsieve>1.2\n",
      "  Downloading soupsieve-2.3.1-py3-none-any.whl (37 kB)\n",
      "Requirement already satisfied: python-dateutil>=2.7.3 in /usr/local/lib/python3.7/dist-packages (from pandas->text_hammer) (2.8.2)\n",
      "Requirement already satisfied: pytz>=2017.2 in /usr/local/lib/python3.7/dist-packages (from pandas->text_hammer) (2018.9)\n",
      "Requirement already satisfied: six>=1.5 in /usr/local/lib/python3.7/dist-packages (from python-dateutil>=2.7.3->pandas->text_hammer) (1.15.0)\n",
      "Requirement already satisfied: tqdm<5.0.0,>=4.38.0 in /usr/local/lib/python3.7/dist-packages (from spacy->text_hammer) (4.62.3)\n",
      "Requirement already satisfied: catalogue<1.1.0,>=0.0.7 in /usr/local/lib/python3.7/dist-packages (from spacy->text_hammer) (1.0.0)\n",
      "Requirement already satisfied: requests<3.0.0,>=2.13.0 in /usr/local/lib/python3.7/dist-packages (from spacy->text_hammer) (2.23.0)\n",
      "Requirement already satisfied: thinc==7.4.0 in /usr/local/lib/python3.7/dist-packages (from spacy->text_hammer) (7.4.0)\n",
      "Requirement already satisfied: murmurhash<1.1.0,>=0.28.0 in /usr/local/lib/python3.7/dist-packages (from spacy->text_hammer) (1.0.6)\n",
      "Requirement already satisfied: preshed<3.1.0,>=3.0.2 in /usr/local/lib/python3.7/dist-packages (from spacy->text_hammer) (3.0.6)\n",
      "Requirement already satisfied: setuptools in /usr/local/lib/python3.7/dist-packages (from spacy->text_hammer) (57.4.0)\n",
      "Requirement already satisfied: wasabi<1.1.0,>=0.4.0 in /usr/local/lib/python3.7/dist-packages (from spacy->text_hammer) (0.9.0)\n",
      "Requirement already satisfied: cymem<2.1.0,>=2.0.2 in /usr/local/lib/python3.7/dist-packages (from spacy->text_hammer) (2.0.6)\n",
      "Requirement already satisfied: blis<0.5.0,>=0.4.0 in /usr/local/lib/python3.7/dist-packages (from spacy->text_hammer) (0.4.1)\n",
      "Requirement already satisfied: srsly<1.1.0,>=1.0.2 in /usr/local/lib/python3.7/dist-packages (from spacy->text_hammer) (1.0.5)\n",
      "Requirement already satisfied: plac<1.2.0,>=0.9.6 in /usr/local/lib/python3.7/dist-packages (from spacy->text_hammer) (1.1.3)\n",
      "Requirement already satisfied: importlib-metadata>=0.20 in /usr/local/lib/python3.7/dist-packages (from catalogue<1.1.0,>=0.0.7->spacy->text_hammer) (4.10.0)\n",
      "Requirement already satisfied: typing-extensions>=3.6.4 in /usr/local/lib/python3.7/dist-packages (from importlib-metadata>=0.20->catalogue<1.1.0,>=0.0.7->spacy->text_hammer) (3.10.0.2)\n",
      "Requirement already satisfied: zipp>=0.5 in /usr/local/lib/python3.7/dist-packages (from importlib-metadata>=0.20->catalogue<1.1.0,>=0.0.7->spacy->text_hammer) (3.7.0)\n",
      "Requirement already satisfied: chardet<4,>=3.0.2 in /usr/local/lib/python3.7/dist-packages (from requests<3.0.0,>=2.13.0->spacy->text_hammer) (3.0.4)\n",
      "Requirement already satisfied: certifi>=2017.4.17 in /usr/local/lib/python3.7/dist-packages (from requests<3.0.0,>=2.13.0->spacy->text_hammer) (2021.10.8)\n",
      "Requirement already satisfied: idna<3,>=2.5 in /usr/local/lib/python3.7/dist-packages (from requests<3.0.0,>=2.13.0->spacy->text_hammer) (2.10)\n",
      "Requirement already satisfied: urllib3!=1.25.0,!=1.25.1,<1.26,>=1.21.1 in /usr/local/lib/python3.7/dist-packages (from requests<3.0.0,>=2.13.0->spacy->text_hammer) (1.24.3)\n",
      "Requirement already satisfied: nltk>=3.1 in /usr/local/lib/python3.7/dist-packages (from TextBlob->text_hammer) (3.2.5)\n",
      "Installing collected packages: soupsieve, beautifulsoup4, text-hammer\n",
      "  Attempting uninstall: beautifulsoup4\n",
      "    Found existing installation: beautifulsoup4 4.6.3\n",
      "    Uninstalling beautifulsoup4-4.6.3:\n",
      "      Successfully uninstalled beautifulsoup4-4.6.3\n",
      "Successfully installed beautifulsoup4-4.9.1 soupsieve-2.3.1 text-hammer-0.1.5\n",
      "Requirement already satisfied: gensim in /usr/local/lib/python3.7/dist-packages (3.6.0)\n",
      "Requirement already satisfied: scipy>=0.18.1 in /usr/local/lib/python3.7/dist-packages (from gensim) (1.4.1)\n",
      "Requirement already satisfied: smart-open>=1.2.1 in /usr/local/lib/python3.7/dist-packages (from gensim) (5.2.1)\n",
      "Requirement already satisfied: numpy>=1.11.3 in /usr/local/lib/python3.7/dist-packages (from gensim) (1.19.5)\n",
      "Requirement already satisfied: six>=1.5.0 in /usr/local/lib/python3.7/dist-packages (from gensim) (1.15.0)\n"
     ]
    }
   ],
   "source": [
    "import numpy as np # NumPy is a Python library used for working with arrays. It also has functions for working in domain of linear algebra, fourier transform, and matrices.\n",
    "\n",
    "import pandas as pd # Pandas is a Python library for data analysis. Data processing, CSV file I/O (e.g. pd.read_csv). Importing the dataset\n",
    "\n",
    "import matplotlib.pyplot as plt # matplotlib. pyplot is a collection of functions that make matplotlib work like MATLAB.\n",
    "\n",
    "import seaborn as sns # Seaborn is an open-source Python library built on top of matplotlib. It is used for data visualization and exploratory data analysis.\n",
    "# Matplotlib: Matplotlib is mainly deployed for basic plotting. Visualization using Matplotlib generally consists of bars, pies, lines, scatter plots and so on. Seaborn: Seaborn, on the other hand, provides a variety of visualization patterns. It uses fewer syntax and has easily interesting default themes\n",
    "\n",
    "!pip install text_hammer\n",
    "import text_hammer as th # To facilitate text preprocessing\n",
    "\n",
    "from tqdm._tqdm_notebook import tqdm_notebook # IPython/Jupyter Notebook progressbar decorator for iterators\n",
    "\n",
    "!pip install gensim #this probably won't work in case of jupyter Notebook you should install it in conda environment\n",
    "import gensim.downloader as api # This module is an API for downloading, getting information and loading datasets/models.\n",
    "\n",
    "import tensorflow as tf\n",
    "from tensorflow import keras\n",
    "from keras.utils import to_categorical #Converts a class vector (integers) to binary class matrix.\n",
    "from keras.preprocessing.text import Tokenizer # Transforms each text in texts to a sequence of integers. Each item in texts can also be a list, in which case we assume each item of that list to be a token.\n",
    "from keras.preprocessing.sequence import pad_sequences # Pads sequences to the same length.\n",
    "from keras.models import Sequential # A Sequential model is appropriate for a plain stack of layers where each layer has exactly one input tensor and one output tensor.\n",
    "from keras.layers import Dense, LSTM, Embedding,Bidirectional # Just your regular densely-connected NN layer, Long Short-Term Memory layer, Turns positive integers (indexes) into dense vectors of fixed size, Bidirectional wrapper for RNNs.\n",
    "from keras.layers import Dropout # The Dropout layer randomly sets input units to 0 with a frequency of rate at each step during training time, which helps prevent overfitting.\n",
    "from keras.callbacks import EarlyStopping, ModelCheckpoint #Callback to save the Keras model or model weights at some frequency. Stop training when a monitored metric has stopped improving, ModelCheckpoint callback is used in conjunction with training using model.fit() to save a model or weights (in a checkpoint file) at some interval, so the model or weights can be loaded later to continue the training from the state saved.\n",
    "from keras.models import model_from_json # Parses a JSON model configuration string and returns a model instance.\n",
    "\n",
    "import pickle # The pickle module implements binary protocols for serializing and de-serializing a Python object structure.\n",
    "\n",
    "from sklearn import metrics # The sklearn. metrics module implements several loss, score, and utility functions to measure classification performance.\n",
    "\n",
    "import warnings # To hide some unnecessary warnings shown by Jupyter"
   ]
  },
  {
   "cell_type": "code",
   "execution_count": null,
   "metadata": {
    "id": "pJzACoMgWX0T"
   },
   "outputs": [],
   "source": [
    "#import warnings\n",
    "warnings.filterwarnings('ignore')\n",
    "%config Completer.use_jedi = False # if autocompletion doesnot work in kaggle notebook | hit tab"
   ]
  },
  {
   "cell_type": "markdown",
   "metadata": {
    "id": "mTKMIg-r0kPf"
   },
   "source": [
    "# **2.Loading the Data for Emotion Detection** \n",
    "The dataset used is downloaded from \"https://www.kaggle.com/praveengovi/emotions-dataset-for-nlp\". The dataset contains 3 files: train file, test file, Val file.\n",
    "\n",
    "We start with loading our textual data in a data frame."
   ]
  },
  {
   "cell_type": "code",
   "execution_count": null,
   "metadata": {
    "id": "kc1_zfySIZPA"
   },
   "outputs": [],
   "source": [
    "# importing the dataset \n",
    "df_train = pd.read_csv('/Data/train.txt', header =None, sep =';', names = ['Input','Sentiment'], encoding='utf-8')\n",
    "df_test = pd.read_csv('/Data/test.txt', header = None, sep =';', names = ['Input','Sentiment'],encoding='utf-8')\n",
    "df_val=pd.read_csv('/Data/val.txt',header=None,sep=';',names=['Input','Sentiment'],encoding='utf-8')"
   ]
  },
  {
   "cell_type": "code",
   "execution_count": null,
   "metadata": {
    "colab": {
     "base_uri": "https://localhost:8080/",
     "height": 423
    },
    "executionInfo": {
     "elapsed": 26,
     "status": "ok",
     "timestamp": 1642105430985,
     "user": {
      "displayName": "hafida hidani",
      "photoUrl": "https://lh3.googleusercontent.com/a/default-user=s64",
      "userId": "05618405513311899808"
     },
     "user_tz": -60
    },
    "id": "mDrRh33mIikH",
    "outputId": "3491926e-8ffb-4206-ab90-d5ee6d314589"
   },
   "outputs": [
    {
     "data": {
      "text/html": [
       "\n",
       "  <div id=\"df-8d9326c6-1e01-4eb2-a107-7fadb7212830\">\n",
       "    <div class=\"colab-df-container\">\n",
       "      <div>\n",
       "<style scoped>\n",
       "    .dataframe tbody tr th:only-of-type {\n",
       "        vertical-align: middle;\n",
       "    }\n",
       "\n",
       "    .dataframe tbody tr th {\n",
       "        vertical-align: top;\n",
       "    }\n",
       "\n",
       "    .dataframe thead th {\n",
       "        text-align: right;\n",
       "    }\n",
       "</style>\n",
       "<table border=\"1\" class=\"dataframe\">\n",
       "  <thead>\n",
       "    <tr style=\"text-align: right;\">\n",
       "      <th></th>\n",
       "      <th>Input</th>\n",
       "      <th>Sentiment</th>\n",
       "    </tr>\n",
       "  </thead>\n",
       "  <tbody>\n",
       "    <tr>\n",
       "      <th>0</th>\n",
       "      <td>i didnt feel humiliated</td>\n",
       "      <td>sadness</td>\n",
       "    </tr>\n",
       "    <tr>\n",
       "      <th>1</th>\n",
       "      <td>i can go from feeling so hopeless to so damned...</td>\n",
       "      <td>sadness</td>\n",
       "    </tr>\n",
       "    <tr>\n",
       "      <th>2</th>\n",
       "      <td>im grabbing a minute to post i feel greedy wrong</td>\n",
       "      <td>anger</td>\n",
       "    </tr>\n",
       "    <tr>\n",
       "      <th>3</th>\n",
       "      <td>i am ever feeling nostalgic about the fireplac...</td>\n",
       "      <td>love</td>\n",
       "    </tr>\n",
       "    <tr>\n",
       "      <th>4</th>\n",
       "      <td>i am feeling grouchy</td>\n",
       "      <td>anger</td>\n",
       "    </tr>\n",
       "    <tr>\n",
       "      <th>...</th>\n",
       "      <td>...</td>\n",
       "      <td>...</td>\n",
       "    </tr>\n",
       "    <tr>\n",
       "      <th>1995</th>\n",
       "      <td>im having ssa examination tomorrow in the morn...</td>\n",
       "      <td>sadness</td>\n",
       "    </tr>\n",
       "    <tr>\n",
       "      <th>1996</th>\n",
       "      <td>i constantly worry about their fight against n...</td>\n",
       "      <td>joy</td>\n",
       "    </tr>\n",
       "    <tr>\n",
       "      <th>1997</th>\n",
       "      <td>i feel its important to share this info for th...</td>\n",
       "      <td>joy</td>\n",
       "    </tr>\n",
       "    <tr>\n",
       "      <th>1998</th>\n",
       "      <td>i truly feel that if you are passionate enough...</td>\n",
       "      <td>joy</td>\n",
       "    </tr>\n",
       "    <tr>\n",
       "      <th>1999</th>\n",
       "      <td>i feel like i just wanna buy any cute make up ...</td>\n",
       "      <td>joy</td>\n",
       "    </tr>\n",
       "  </tbody>\n",
       "</table>\n",
       "<p>20000 rows × 2 columns</p>\n",
       "</div>\n",
       "      <button class=\"colab-df-convert\" onclick=\"convertToInteractive('df-8d9326c6-1e01-4eb2-a107-7fadb7212830')\"\n",
       "              title=\"Convert this dataframe to an interactive table.\"\n",
       "              style=\"display:none;\">\n",
       "        \n",
       "  <svg xmlns=\"http://www.w3.org/2000/svg\" height=\"24px\"viewBox=\"0 0 24 24\"\n",
       "       width=\"24px\">\n",
       "    <path d=\"M0 0h24v24H0V0z\" fill=\"none\"/>\n",
       "    <path d=\"M18.56 5.44l.94 2.06.94-2.06 2.06-.94-2.06-.94-.94-2.06-.94 2.06-2.06.94zm-11 1L8.5 8.5l.94-2.06 2.06-.94-2.06-.94L8.5 2.5l-.94 2.06-2.06.94zm10 10l.94 2.06.94-2.06 2.06-.94-2.06-.94-.94-2.06-.94 2.06-2.06.94z\"/><path d=\"M17.41 7.96l-1.37-1.37c-.4-.4-.92-.59-1.43-.59-.52 0-1.04.2-1.43.59L10.3 9.45l-7.72 7.72c-.78.78-.78 2.05 0 2.83L4 21.41c.39.39.9.59 1.41.59.51 0 1.02-.2 1.41-.59l7.78-7.78 2.81-2.81c.8-.78.8-2.07 0-2.86zM5.41 20L4 18.59l7.72-7.72 1.47 1.35L5.41 20z\"/>\n",
       "  </svg>\n",
       "      </button>\n",
       "      \n",
       "  <style>\n",
       "    .colab-df-container {\n",
       "      display:flex;\n",
       "      flex-wrap:wrap;\n",
       "      gap: 12px;\n",
       "    }\n",
       "\n",
       "    .colab-df-convert {\n",
       "      background-color: #E8F0FE;\n",
       "      border: none;\n",
       "      border-radius: 50%;\n",
       "      cursor: pointer;\n",
       "      display: none;\n",
       "      fill: #1967D2;\n",
       "      height: 32px;\n",
       "      padding: 0 0 0 0;\n",
       "      width: 32px;\n",
       "    }\n",
       "\n",
       "    .colab-df-convert:hover {\n",
       "      background-color: #E2EBFA;\n",
       "      box-shadow: 0px 1px 2px rgba(60, 64, 67, 0.3), 0px 1px 3px 1px rgba(60, 64, 67, 0.15);\n",
       "      fill: #174EA6;\n",
       "    }\n",
       "\n",
       "    [theme=dark] .colab-df-convert {\n",
       "      background-color: #3B4455;\n",
       "      fill: #D2E3FC;\n",
       "    }\n",
       "\n",
       "    [theme=dark] .colab-df-convert:hover {\n",
       "      background-color: #434B5C;\n",
       "      box-shadow: 0px 1px 3px 1px rgba(0, 0, 0, 0.15);\n",
       "      filter: drop-shadow(0px 1px 2px rgba(0, 0, 0, 0.3));\n",
       "      fill: #FFFFFF;\n",
       "    }\n",
       "  </style>\n",
       "\n",
       "      <script>\n",
       "        const buttonEl =\n",
       "          document.querySelector('#df-8d9326c6-1e01-4eb2-a107-7fadb7212830 button.colab-df-convert');\n",
       "        buttonEl.style.display =\n",
       "          google.colab.kernel.accessAllowed ? 'block' : 'none';\n",
       "\n",
       "        async function convertToInteractive(key) {\n",
       "          const element = document.querySelector('#df-8d9326c6-1e01-4eb2-a107-7fadb7212830');\n",
       "          const dataTable =\n",
       "            await google.colab.kernel.invokeFunction('convertToInteractive',\n",
       "                                                     [key], {});\n",
       "          if (!dataTable) return;\n",
       "\n",
       "          const docLinkHtml = 'Like what you see? Visit the ' +\n",
       "            '<a target=\"_blank\" href=https://colab.research.google.com/notebooks/data_table.ipynb>data table notebook</a>'\n",
       "            + ' to learn more about interactive tables.';\n",
       "          element.innerHTML = '';\n",
       "          dataTable['output_type'] = 'display_data';\n",
       "          await google.colab.output.renderOutput(dataTable, element);\n",
       "          const docLink = document.createElement('div');\n",
       "          docLink.innerHTML = docLinkHtml;\n",
       "          element.appendChild(docLink);\n",
       "        }\n",
       "      </script>\n",
       "    </div>\n",
       "  </div>\n",
       "  "
      ],
      "text/plain": [
       "                                                  Input Sentiment\n",
       "0                               i didnt feel humiliated   sadness\n",
       "1     i can go from feeling so hopeless to so damned...   sadness\n",
       "2      im grabbing a minute to post i feel greedy wrong     anger\n",
       "3     i am ever feeling nostalgic about the fireplac...      love\n",
       "4                                  i am feeling grouchy     anger\n",
       "...                                                 ...       ...\n",
       "1995  im having ssa examination tomorrow in the morn...   sadness\n",
       "1996  i constantly worry about their fight against n...       joy\n",
       "1997  i feel its important to share this info for th...       joy\n",
       "1998  i truly feel that if you are passionate enough...       joy\n",
       "1999  i feel like i just wanna buy any cute make up ...       joy\n",
       "\n",
       "[20000 rows x 2 columns]"
      ]
     },
     "execution_count": 5,
     "metadata": {},
     "output_type": "execute_result"
    }
   ],
   "source": [
    "df_full = pd.concat([df_train,df_test,df_val], axis = 0)\n",
    "df_full"
   ]
  },
  {
   "cell_type": "markdown",
   "metadata": {
    "id": "Q-aVZSNp1vH1"
   },
   "source": [
    "We check the category-wise distribution of data."
   ]
  },
  {
   "cell_type": "code",
   "execution_count": null,
   "metadata": {
    "colab": {
     "base_uri": "https://localhost:8080/",
     "height": 278
    },
    "executionInfo": {
     "elapsed": 23,
     "status": "ok",
     "timestamp": 1642105430986,
     "user": {
      "displayName": "hafida hidani",
      "photoUrl": "https://lh3.googleusercontent.com/a/default-user=s64",
      "userId": "05618405513311899808"
     },
     "user_tz": -60
    },
    "id": "CVxe7PpnI18D",
    "outputId": "b22a6132-9c60-42f0-d68e-15bc0a442437"
   },
   "outputs": [
    {
     "data": {
      "image/png": "[encoded data removed]",
      "text/plain": [
       "<Figure size 432x288 with 1 Axes>"
      ]
     },
     "metadata": {
      "needs_background": "light"
     },
     "output_type": "display_data"
    }
   ],
   "source": [
    "#import matplotlib.pyplot as plt\n",
    "#import seaborn as sns\n",
    "sns.countplot(df_train.Sentiment)\n",
    "plt.show()"
   ]
  },
  {
   "cell_type": "markdown",
   "metadata": {
    "id": "HiXKOzzP2TFp"
   },
   "source": [
    "The category Surprise has the least data sample, you can make data balanced by balancing all categories either by over-sampling or under-sampling."
   ]
  },
  {
   "cell_type": "markdown",
   "metadata": {
    "id": "CflhOb6f2Yt_"
   },
   "source": [
    "## **2.1.Emotion Detection Data**\n",
    "In order to make our text data cleaner we need to perform some text preprocessing.\n",
    "* Removing punctuations (it doesn’t \n",
    "contribute to emotion detection).\n",
    "* Removing stopwords ( i.e. words like the, are, etc. which also does not contribute to the task).\n",
    "* Removing emails, HTML tags, website, and unnecessary links.\n",
    "* Removing contraction of words ( I’m -> I am ).\n",
    "* Normalisation of words ( eating -> eat, playing -> play)."
   ]
  },
  {
   "cell_type": "code",
   "execution_count": null,
   "metadata": {
    "colab": {
     "base_uri": "https://localhost:8080/"
    },
    "executionInfo": {
     "elapsed": 7483,
     "status": "ok",
     "timestamp": 1641746235320,
     "user": {
      "displayName": "hafida hidani",
      "photoUrl": "https://lh3.googleusercontent.com/a/default-user=s64",
      "userId": "05618405513311899808"
     },
     "user_tz": -60
    },
    "id": "_sHYkarmJM8L",
    "outputId": "50c69dd0-0172-4c9e-e6e6-90f117df7fa4"
   },
   "outputs": [
    {
     "name": "stdout",
     "output_type": "stream",
     "text": [
      "Collecting text_hammer\n",
      "  Downloading text_hammer-0.1.5-py3-none-any.whl (7.6 kB)\n",
      "Requirement already satisfied: TextBlob in /usr/local/lib/python3.7/dist-packages (from text_hammer) (0.15.3)\n",
      "Collecting beautifulsoup4==4.9.1\n",
      "  Downloading beautifulsoup4-4.9.1-py3-none-any.whl (115 kB)\n",
      "\u001b[K     |████████████████████████████████| 115 kB 7.6 MB/s \n",
      "\u001b[?25hRequirement already satisfied: numpy in /usr/local/lib/python3.7/dist-packages (from text_hammer) (1.19.5)\n",
      "Requirement already satisfied: pandas in /usr/local/lib/python3.7/dist-packages (from text_hammer) (1.1.5)\n",
      "Requirement already satisfied: spacy in /usr/local/lib/python3.7/dist-packages (from text_hammer) (2.2.4)\n",
      "Collecting soupsieve>1.2\n",
      "  Downloading soupsieve-2.3.1-py3-none-any.whl (37 kB)\n",
      "Requirement already satisfied: python-dateutil>=2.7.3 in /usr/local/lib/python3.7/dist-packages (from pandas->text_hammer) (2.8.2)\n",
      "Requirement already satisfied: pytz>=2017.2 in /usr/local/lib/python3.7/dist-packages (from pandas->text_hammer) (2018.9)\n",
      "Requirement already satisfied: six>=1.5 in /usr/local/lib/python3.7/dist-packages (from python-dateutil>=2.7.3->pandas->text_hammer) (1.15.0)\n",
      "Requirement already satisfied: setuptools in /usr/local/lib/python3.7/dist-packages (from spacy->text_hammer) (57.4.0)\n",
      "Requirement already satisfied: blis<0.5.0,>=0.4.0 in /usr/local/lib/python3.7/dist-packages (from spacy->text_hammer) (0.4.1)\n",
      "Requirement already satisfied: catalogue<1.1.0,>=0.0.7 in /usr/local/lib/python3.7/dist-packages (from spacy->text_hammer) (1.0.0)\n",
      "Requirement already satisfied: srsly<1.1.0,>=1.0.2 in /usr/local/lib/python3.7/dist-packages (from spacy->text_hammer) (1.0.5)\n",
      "Requirement already satisfied: tqdm<5.0.0,>=4.38.0 in /usr/local/lib/python3.7/dist-packages (from spacy->text_hammer) (4.62.3)\n",
      "Requirement already satisfied: murmurhash<1.1.0,>=0.28.0 in /usr/local/lib/python3.7/dist-packages (from spacy->text_hammer) (1.0.6)\n",
      "Requirement already satisfied: thinc==7.4.0 in /usr/local/lib/python3.7/dist-packages (from spacy->text_hammer) (7.4.0)\n",
      "Requirement already satisfied: requests<3.0.0,>=2.13.0 in /usr/local/lib/python3.7/dist-packages (from spacy->text_hammer) (2.23.0)\n",
      "Requirement already satisfied: plac<1.2.0,>=0.9.6 in /usr/local/lib/python3.7/dist-packages (from spacy->text_hammer) (1.1.3)\n",
      "Requirement already satisfied: cymem<2.1.0,>=2.0.2 in /usr/local/lib/python3.7/dist-packages (from spacy->text_hammer) (2.0.6)\n",
      "Requirement already satisfied: wasabi<1.1.0,>=0.4.0 in /usr/local/lib/python3.7/dist-packages (from spacy->text_hammer) (0.8.2)\n",
      "Requirement already satisfied: preshed<3.1.0,>=3.0.2 in /usr/local/lib/python3.7/dist-packages (from spacy->text_hammer) (3.0.6)\n",
      "Requirement already satisfied: importlib-metadata>=0.20 in /usr/local/lib/python3.7/dist-packages (from catalogue<1.1.0,>=0.0.7->spacy->text_hammer) (4.8.2)\n",
      "Requirement already satisfied: zipp>=0.5 in /usr/local/lib/python3.7/dist-packages (from importlib-metadata>=0.20->catalogue<1.1.0,>=0.0.7->spacy->text_hammer) (3.6.0)\n",
      "Requirement already satisfied: typing-extensions>=3.6.4 in /usr/local/lib/python3.7/dist-packages (from importlib-metadata>=0.20->catalogue<1.1.0,>=0.0.7->spacy->text_hammer) (3.10.0.2)\n",
      "Requirement already satisfied: urllib3!=1.25.0,!=1.25.1,<1.26,>=1.21.1 in /usr/local/lib/python3.7/dist-packages (from requests<3.0.0,>=2.13.0->spacy->text_hammer) (1.24.3)\n",
      "Requirement already satisfied: certifi>=2017.4.17 in /usr/local/lib/python3.7/dist-packages (from requests<3.0.0,>=2.13.0->spacy->text_hammer) (2021.10.8)\n",
      "Requirement already satisfied: idna<3,>=2.5 in /usr/local/lib/python3.7/dist-packages (from requests<3.0.0,>=2.13.0->spacy->text_hammer) (2.10)\n",
      "Requirement already satisfied: chardet<4,>=3.0.2 in /usr/local/lib/python3.7/dist-packages (from requests<3.0.0,>=2.13.0->spacy->text_hammer) (3.0.4)\n",
      "Requirement already satisfied: nltk>=3.1 in /usr/local/lib/python3.7/dist-packages (from TextBlob->text_hammer) (3.2.5)\n",
      "Installing collected packages: soupsieve, beautifulsoup4, text-hammer\n",
      "  Attempting uninstall: beautifulsoup4\n",
      "    Found existing installation: beautifulsoup4 4.6.3\n",
      "    Uninstalling beautifulsoup4-4.6.3:\n",
      "      Successfully uninstalled beautifulsoup4-4.6.3\n",
      "Successfully installed beautifulsoup4-4.9.1 soupsieve-2.3.1 text-hammer-0.1.5\n"
     ]
    }
   ],
   "source": [
    "#!pip install text_hammer \n",
    "#import text_hammer as th"
   ]
  },
  {
   "cell_type": "markdown",
   "metadata": {
    "id": "_KPSLjZk25Al"
   },
   "source": [
    "Importing **tqdm progress bar** and creating a function which takes data-frame to perform preprocessing and return a preprocessed data-frame."
   ]
  },
  {
   "cell_type": "code",
   "execution_count": null,
   "metadata": {
    "colab": {
     "base_uri": "https://localhost:8080/"
    },
    "executionInfo": {
     "elapsed": 1185,
     "status": "ok",
     "timestamp": 1642105433099,
     "user": {
      "displayName": "hafida hidani",
      "photoUrl": "https://lh3.googleusercontent.com/a/default-user=s64",
      "userId": "05618405513311899808"
     },
     "user_tz": -60
    },
    "id": "_TD8V_gwJcOn",
    "outputId": "bc7113f5-5220-426f-afef-7c346844dafe"
   },
   "outputs": [
    {
     "name": "stdout",
     "output_type": "stream",
     "text": [
      "CPU times: user 423 µs, sys: 65 µs, total: 488 µs\n",
      "Wall time: 496 µs\n"
     ]
    }
   ],
   "source": [
    "%%time\n",
    "#from tqdm._tqdm_notebook import tqdm_notebook\n",
    "tqdm_notebook.pandas()"
   ]
  },
  {
   "cell_type": "code",
   "execution_count": null,
   "metadata": {
    "id": "Fjjde6bpJvac"
   },
   "outputs": [],
   "source": [
    "def text_preprocessing(df,col_name):\n",
    "    column = col_name\n",
    "    df[column] = df[column].progress_apply(lambda x:str(x).lower())\n",
    "    df[column] = df[column].progress_apply(lambda x: th.cont_exp(x))\n",
    "    df[column] = df[column].progress_apply(lambda x: th.remove_emails(x))\n",
    "    df[column] = df[column].progress_apply(lambda x: th.remove_html_tags(x))\n",
    "    df[column] = df[column].progress_apply(lambda x: th.remove_special_chars(x))\n",
    "    df[column] = df[column].progress_apply(lambda x: th.remove_accented_chars(x))\n",
    "    df[column] = df[column].progress_apply(lambda x: th.make_base(x)) #ran -> run,\n",
    "    return(df)"
   ]
  },
  {
   "cell_type": "markdown",
   "metadata": {
    "id": "VIb__rRo3Gu8"
   },
   "source": [
    "* The method **progress_apply()** is used when we create a progress bar associated with the method apply().\n",
    "\n",
    "* **lambda** function takes a sentence and passes it into text_preprocessing methods.\n",
    "\n",
    "* **th.make_base()** takes a sentence and returns normalized sentence.\n",
    "\n",
    "* **th.remove_accented_chars()** removes accented characters.\n",
    "\n",
    "After building text-preprocessing function we need to call it on our dataframe. only training data need to be cleaned, not test and validation data.\n",
    "\n",
    "* **“Input”** is the column containing our text data .\n",
    "calling tEmotionffffext_preprocessing may take time depeding on the data size."
   ]
  },
  {
   "cell_type": "code",
   "execution_count": null,
   "metadata": {
    "colab": {
     "base_uri": "https://localhost:8080/",
     "height": 241,
     "referenced_widgets": [
      "c9bd63cb74704ca28bb3f2c81a44cf36",
      "dfad2586bea04bf39f8f7796d2ce25e2",
      "7579c4919a474e3aac3041415a4f7b7b",
      "bf79367b57d24eaab289bebb798368ad",
      "970f058efd724e4780a6a71a185504ec",
      "c84c130ff82b42e2b16e5e2d54de3670",
      "323150eb7c554a5d9a9356da58ab1bb0",
      "875692fd0f2a477fb452ff910e740284",
      "acdbc70311f6427f9552f8e61e978eed",
      "0e596554215f48b29d3668baa620c629",
      "02ac69bd21f74f579502ae72faf97b25",
      "6c99384083cb4a6f815ffbd56088e0b5",
      "937f5bdb5df04bdca2125383ac6cb52c",
      "05498ef155df470482648b24a139214e",
      "59fcca0868bb4a79a929caf3a4263352",
      "232bc99f85d048ed8aa3ebecc90e30fa",
      "bb9fe59275514d59b883ece618b15105",
      "73f94261ed8f4342ba0ef7f71caff296",
      "85d028065a364e949bd46a9128f86c1f",
      "8309019da5e84e3d808e412f69cd82d5",
      "8077bf47c7a644828c4c97f00731ea20",
      "88a17bca0ac045518da90d8a40324efc",
      "00d697f006d0485fae1c61460dc8a702",
      "02385c094f3a47feae403688f7b38ed5",
      "7385b4a492fd43d89039bfccd1864bdd",
      "2bf18ea101974bf8a0b37589ea263e09",
      "51cdba52bfd941dab913957bdcc5505c",
      "ae8c1973d32848a38d621a42ab7273ae",
      "18865bad57bb4ea6ad73d5166f0ec973",
      "b2c15e871330490c9131cce1506adbb1",
      "b0009a1c637c4644961c058a7b1e4d87",
      "a3dd4af12e0247b89ad2eb623f406994",
      "ff242245fe264accb97fca607f55d77d",
      "6387a53ef0334e85801c5221b6812524",
      "a807b72a8561423ca569330365cba92d",
      "d23b2982cbec4600a205306215cef20d",
      "3b20d1aea43a4edeb5e95fee9b048563",
      "56f949a434b74e1f8e06a8c344098282",
      "7e21252b4e42458b88f6ca07dc30fbd6",
      "8b01911f629043d6a31e31ff5fce8b5b",
      "f95ab1e5cdae4c49be61e5b46f47de12",
      "f829d28e51934c49983b21eed84fc413",
      "f35d1159d37249d190b0aa7a2d5dc97e",
      "c9c85d2487c647f894cafb911acfeb35",
      "4a5f79bdb1e14810b1887e6a706e5a30",
      "c1b14058a2fc46209c7e1120885074c8",
      "47b2c07d43bf48ba9d2d285871aa8dba",
      "5b15a4f54aaa4e8c9b8e21e59e9e8463",
      "6e15bcb8d4df4dd1a805e37801e26edd",
      "9c06a47f3a5748b6a87d633051f96d05",
      "6cba5ccc05b846d481f1b2c11d94e870",
      "490cf00b06fc4a7c8ba7f66e706a361c",
      "058ff05abad94c4faa927828547dd40d",
      "e0665091f94e4d748c1814ec0a80c260",
      "37847bbdd79c49e0b9ece7a0aba2b796",
      "3ae830ad2e02411aaee42df4272449ed",
      "976b30f844c94f35a872da8c3a768743",
      "23194aca7e5145a589d62a4fb1497fa3",
      "00099852aa9144cca57f6a7f76b2a84a",
      "d5276cc7f5584af7a0c7844e2e2e7e22",
      "e94b986fb26e4c9094e1b94c99553d5e",
      "db85844b4b564fb485c0fb15e72f63eb",
      "b1e7c0c3d68c461b927a306077ec45db",
      "f7339bef2d0d48c8b6868e03ca39bece",
      "73d70b30ef024da08cd430221e1673a4",
      "8f297503011c44eca3bc66f70aec53a9",
      "0ead38cc9ab34eb4a86a03818030f2fd",
      "46de149aa1c141b49be26de8cb8f44a2",
      "52500a59dc6e4af581acced1b4bc9357",
      "a756e036f963449a8c1e19a2e00acfca",
      "2cbb0d37b4344ed7802885137452eb12",
      "0c32c34e5c754ad9b3043798829cb487",
      "1ae3b6adddc044899131b907b2fa13d5",
      "195906ffc25e4fc4b2e782e6c2645dd6",
      "53d4ac9214694d1b9b37489f598bf17f",
      "f8674bcf86de4810abeaeda6c85d5205",
      "815a03ba70c64e7d93c4c5c1cf6df158"
     ]
    },
    "executionInfo": {
     "elapsed": 176113,
     "status": "ok",
     "timestamp": 1642105617901,
     "user": {
      "displayName": "hafida hidani",
      "photoUrl": "https://lh3.googleusercontent.com/a/default-user=s64",
      "userId": "05618405513311899808"
     },
     "user_tz": -60
    },
    "id": "6tIUoTWvJtlj",
    "outputId": "ae117246-6375-4236-e30c-29f3a9359c31"
   },
   "outputs": [
    {
     "data": {
      "application/vnd.jupyter.widget-view+json": {
       "model_id": "c9bd63cb74704ca28bb3f2c81a44cf36",
       "version_major": 2,
       "version_minor": 0
      },
      "text/plain": [
       "  0%|          | 0/16000 [00:00<?, ?it/s]"
      ]
     },
     "metadata": {},
     "output_type": "display_data"
    },
    {
     "data": {
      "application/vnd.jupyter.widget-view+json": {
       "model_id": "6c99384083cb4a6f815ffbd56088e0b5",
       "version_major": 2,
       "version_minor": 0
      },
      "text/plain": [
       "  0%|          | 0/16000 [00:00<?, ?it/s]"
      ]
     },
     "metadata": {},
     "output_type": "display_data"
    },
    {
     "data": {
      "application/vnd.jupyter.widget-view+json": {
       "model_id": "00d697f006d0485fae1c61460dc8a702",
       "version_major": 2,
       "version_minor": 0
      },
      "text/plain": [
       "  0%|          | 0/16000 [00:00<?, ?it/s]"
      ]
     },
     "metadata": {},
     "output_type": "display_data"
    },
    {
     "data": {
      "application/vnd.jupyter.widget-view+json": {
       "model_id": "6387a53ef0334e85801c5221b6812524",
       "version_major": 2,
       "version_minor": 0
      },
      "text/plain": [
       "  0%|          | 0/16000 [00:00<?, ?it/s]"
      ]
     },
     "metadata": {},
     "output_type": "display_data"
    },
    {
     "data": {
      "application/vnd.jupyter.widget-view+json": {
       "model_id": "4a5f79bdb1e14810b1887e6a706e5a30",
       "version_major": 2,
       "version_minor": 0
      },
      "text/plain": [
       "  0%|          | 0/16000 [00:00<?, ?it/s]"
      ]
     },
     "metadata": {},
     "output_type": "display_data"
    },
    {
     "data": {
      "application/vnd.jupyter.widget-view+json": {
       "model_id": "3ae830ad2e02411aaee42df4272449ed",
       "version_major": 2,
       "version_minor": 0
      },
      "text/plain": [
       "  0%|          | 0/16000 [00:00<?, ?it/s]"
      ]
     },
     "metadata": {},
     "output_type": "display_data"
    },
    {
     "data": {
      "application/vnd.jupyter.widget-view+json": {
       "model_id": "0ead38cc9ab34eb4a86a03818030f2fd",
       "version_major": 2,
       "version_minor": 0
      },
      "text/plain": [
       "  0%|          | 0/16000 [00:00<?, ?it/s]"
      ]
     },
     "metadata": {},
     "output_type": "display_data"
    }
   ],
   "source": [
    "df_cleaned_train = text_preprocessing(df_train, 'Input')"
   ]
  },
  {
   "cell_type": "markdown",
   "metadata": {
    "id": "85yw5mBQ3WEL"
   },
   "source": [
    "## **2.2.Label Encoding**\n",
    "The sentiment category in our data frame needs to be converted into some numbers in order to pass into the model.\n",
    "\n",
    "Using a dictionary we are encoding our sentiment categories **{‘joy’:0,’anger’:1,’love’:2,’sadness’:3,’fear’:4,’surprise’:5}**."
   ]
  },
  {
   "cell_type": "code",
   "execution_count": null,
   "metadata": {
    "id": "r4z_r3SCKGc4"
   },
   "outputs": [],
   "source": [
    "df_cleaned_train['Sentiment'] = df_cleaned_train.Sentiment.replace({'joy':0,'anger':1,'love':2,'sadness':3,'fear':4,'surprise':5})\n",
    "df_test['Sentiment'] = df_test.Sentiment.replace({'joy':0,'anger':1,'love':2,'sadness':3,'fear':4,'surprise':5})\n",
    "df_val['Sentiment'] = df_val.Sentiment.replace({'joy':0,'anger':1,'love':2,'sadness':3,'fear':4,'surprise':5})"
   ]
  },
  {
   "cell_type": "code",
   "execution_count": null,
   "metadata": {
    "id": "o-ryNPHa1rkO"
   },
   "outputs": [],
   "source": [
    "encoded_dict  = {'joy':0,'anger':1,'love':2,'sadness':3,'fear':4,'surprise':5}"
   ]
  },
  {
   "cell_type": "markdown",
   "metadata": {
    "id": "E8bwKczn3mIf"
   },
   "source": [
    "we have encoded our category by assigning them numbers now it’s time to convert categories into categorical data."
   ]
  },
  {
   "cell_type": "code",
   "execution_count": null,
   "metadata": {
    "id": "njk37Ty_KTng"
   },
   "outputs": [],
   "source": [
    "#from tensorflow.keras.utils import to_categorical\n",
    "y_train = to_categorical(df_cleaned_train.Sentiment.values)\n",
    "y_test = to_categorical(df_test.Sentiment.values)\n",
    "y_val = to_categorical(df_val.Sentiment.values)"
   ]
  },
  {
   "cell_type": "markdown",
   "metadata": {
    "id": "m3ApGlcv3o_m"
   },
   "source": [
    "**y_val, y_test, y_train** are now a binary matrix that will be passed in our model."
   ]
  },
  {
   "cell_type": "markdown",
   "metadata": {
    "id": "xIY59zPR3ueM"
   },
   "source": [
    "## **2.3.Tokenization**\n",
    "As you see we have converted our sentiment labels into some numbers and then into a binary matrix, but what about our text data? we can’t pass text directly to our model.\n",
    "\n",
    "So it’s time to convert our text corpus into some integer numbers.\n",
    "\n",
    "Tokenizer class converts a sentence into an array of numbers by assigning them numbers based on their frequency."
   ]
  },
  {
   "cell_type": "code",
   "execution_count": 13,
   "metadata": {
    "executionInfo": {
     "elapsed": 664,
     "status": "ok",
     "timestamp": 1642105988841,
     "user": {
      "displayName": "hafida hidani",
      "photoUrl": "https://lh3.googleusercontent.com/a/default-user=s64",
      "userId": "05618405513311899808"
     },
     "user_tz": -60
    },
    "id": "fwPXWfXZKYqa"
   },
   "outputs": [],
   "source": [
    "#from keras.preprocessing.text import Tokenizer\n",
    "max_words = 10000 # this means 10000 unique words can be taken \n",
    "tokenizer=Tokenizer(max_words,lower=True)\n",
    "df_total = pd.concat([df_cleaned_train['Input'], df_test.Input], axis = 0)\n",
    "tokenizer.fit_on_texts(df_total)"
   ]
  },
  {
   "cell_type": "markdown",
   "metadata": {
    "id": "L1FiR5D837jF"
   },
   "source": [
    "* Only the top **“max_words”** i.e. most frequent words will be taken into account. Only words known by the tokenizer will be taken into account hence we have concatenated our train and test data to increase the vocabulary for the tokenizer.\n",
    "\n",
    "* The method **fit_on_texts()** fits the text data to the tokenizer. It takes a list of sentences."
   ]
  },
  {
   "cell_type": "code",
   "execution_count": 14,
   "metadata": {
    "executionInfo": {
     "elapsed": 10,
     "status": "ok",
     "timestamp": 1642105994249,
     "user": {
      "displayName": "hafida hidani",
      "photoUrl": "https://lh3.googleusercontent.com/a/default-user=s64",
      "userId": "05618405513311899808"
     },
     "user_tz": -60
    },
    "id": "ZUC155QNKcg2"
   },
   "outputs": [],
   "source": [
    "#from tensorflow.keras.preprocessing.sequence import pad_sequences\n",
    "X_train=tokenizer.texts_to_sequences(df_cleaned_train['Input']) # this converts texts into some numeric sequences \n",
    "X_train_pad=pad_sequences(X_train,maxlen=300,padding='post') # this makes the length of all numeric sequences equal \n",
    "X_test = tokenizer.texts_to_sequences(df_test.Input)\n",
    "X_test_pad = pad_sequences(X_test, maxlen = 300, padding = 'post')\n",
    "X_val = tokenizer.texts_to_sequences(df_val.Input)\n",
    "X_val_pad = pad_sequences(X_val, maxlen = 300, padding = 'post')"
   ]
  },
  {
   "cell_type": "markdown",
   "metadata": {
    "id": "eIQZg_P84DzO"
   },
   "source": [
    "* **texts_to_sequence()** takes a list of sentences and converts them into a sequence of numbers.\n",
    "\n",
    "* Since in our data different sentences have different lengths, it means the number sequence made by **texts_to_sequence** will also have different lengths. in order to pass them in our model, we must make all of them of the same length.\n",
    "\n",
    "* **pad_sequences **is used to ensure that all sequences in a list have the same length. By default, this is done by padding 0 at the beginning/end (**pre, post**) of each sequence until each sequence has the same length as the longest sequence. If in case the sequence length is greater than **maxlen**, it also trims from the end."
   ]
  },
  {
   "cell_type": "code",
   "execution_count": 15,
   "metadata": {
    "colab": {
     "base_uri": "https://localhost:8080/"
    },
    "executionInfo": {
     "elapsed": 9,
     "status": "ok",
     "timestamp": 1642105996093,
     "user": {
      "displayName": "hafida hidani",
      "photoUrl": "https://lh3.googleusercontent.com/a/default-user=s64",
      "userId": "05618405513311899808"
     },
     "user_tz": -60
    },
    "id": "zunkxZVSKhas",
    "outputId": "f2a7bb06-86c0-439c-9733-7aee715540e2"
   },
   "outputs": [
    {
     "data": {
      "text/plain": [
       "(16000, 300)"
      ]
     },
     "execution_count": 15,
     "metadata": {},
     "output_type": "execute_result"
    }
   ],
   "source": [
    "X_train_pad.shape"
   ]
  },
  {
   "cell_type": "code",
   "execution_count": 16,
   "metadata": {
    "colab": {
     "base_uri": "https://localhost:8080/"
    },
    "executionInfo": {
     "elapsed": 12,
     "status": "ok",
     "timestamp": 1642105997902,
     "user": {
      "displayName": "hafida hidani",
      "photoUrl": "https://lh3.googleusercontent.com/a/default-user=s64",
      "userId": "05618405513311899808"
     },
     "user_tz": -60
    },
    "id": "u8nRibRNNf0T",
    "outputId": "96479745-17a7-4c39-e2cd-484ea8932cfc"
   },
   "outputs": [
    {
     "data": {
      "text/plain": [
       "(2000, 300)"
      ]
     },
     "execution_count": 16,
     "metadata": {},
     "output_type": "execute_result"
    }
   ],
   "source": [
    "X_test_pad.shape"
   ]
  },
  {
   "cell_type": "code",
   "execution_count": 17,
   "metadata": {
    "colab": {
     "base_uri": "https://localhost:8080/"
    },
    "executionInfo": {
     "elapsed": 9,
     "status": "ok",
     "timestamp": 1642105997903,
     "user": {
      "displayName": "hafida hidani",
      "photoUrl": "https://lh3.googleusercontent.com/a/default-user=s64",
      "userId": "05618405513311899808"
     },
     "user_tz": -60
    },
    "id": "2peBvWzJNjLk",
    "outputId": "5ea8a366-d696-46e3-b461-9f510f1eec2f"
   },
   "outputs": [
    {
     "data": {
      "text/plain": [
       "(2000, 300)"
      ]
     },
     "execution_count": 17,
     "metadata": {},
     "output_type": "execute_result"
    }
   ],
   "source": [
    "X_val_pad.shape"
   ]
  },
  {
   "cell_type": "markdown",
   "metadata": {
    "id": "VWRyW30b4TWv"
   },
   "source": [
    "Now we have lists containing our sequences of the same length."
   ]
  },
  {
   "cell_type": "markdown",
   "metadata": {
    "id": "r0_y0MkR4coO"
   },
   "source": [
    "## **2.4.Word2Ve**\n",
    "\n",
    "Before proceeding to the next step, you need to look back to the last step there is one problem in our approach.\n",
    "\n",
    "Let’s say we have words (‘love’, ‘affection’,’ like’) these words have the same meaning but according to our tokenizer these words are treated differently. we need to create a relationship between all those words\n",
    "which are interrelated.\n",
    "\n",
    "Here word embedding comes into play, for more understanding read here.\n",
    "\n",
    "We are going to use glove-wiki-gigaword-100 which is trained on Wikipedia data and maps a word into an array of length 100. we also have glove-wiki-gigaword-300 which gives a better result but it’s computationally heavy because of higher dimension.\n",
    "\n",
    "Loading the pertained glove vector using the gensim library."
   ]
  },
  {
   "cell_type": "code",
   "execution_count": 19,
   "metadata": {
    "colab": {
     "base_uri": "https://localhost:8080/"
    },
    "executionInfo": {
     "elapsed": 93815,
     "status": "ok",
     "timestamp": 1642107294850,
     "user": {
      "displayName": "hafida hidani",
      "photoUrl": "https://lh3.googleusercontent.com/a/default-user=s64",
      "userId": "05618405513311899808"
     },
     "user_tz": -60
    },
    "id": "4_vBwarTLaUs",
    "outputId": "13219b24-e7bd-4832-fceb-8d7ccfb5caa4"
   },
   "outputs": [
    {
     "name": "stdout",
     "output_type": "stream",
     "text": [
      "[==================================================] 100.0% 128.1/128.1MB downloaded\n"
     ]
    }
   ],
   "source": [
    "#!pip install gensim\n",
    "#import gensim.downloader as api\n",
    "glove_gensim  = api.load('glove-wiki-gigaword-100') #100 dimension"
   ]
  },
  {
   "cell_type": "markdown",
   "metadata": {
    "id": "y6bkUzHE4hbt"
   },
   "source": [
    "More dimension means more deep meaning of words but it may take a longer time to download.\n",
    "\n",
    "Now map the vocabulary learned by the tokenizer and create a weight matrix."
   ]
  },
  {
   "cell_type": "code",
   "execution_count": 20,
   "metadata": {
    "colab": {
     "base_uri": "https://localhost:8080/"
    },
    "executionInfo": {
     "elapsed": 1060,
     "status": "ok",
     "timestamp": 1642107299473,
     "user": {
      "displayName": "hafida hidani",
      "photoUrl": "https://lh3.googleusercontent.com/a/default-user=s64",
      "userId": "05618405513311899808"
     },
     "user_tz": -60
    },
    "id": "wFNJDrcRNiSW",
    "outputId": "bd7ea425-0a91-4e0d-8a03-4f90c78af8f6"
   },
   "outputs": [
    {
     "data": {
      "text/plain": [
       "(10000, 100)"
      ]
     },
     "execution_count": 20,
     "metadata": {},
     "output_type": "execute_result"
    }
   ],
   "source": [
    "vector_size = 100\n",
    "gensim_weight_matrix = np.zeros((max_words ,vector_size))\n",
    "gensim_weight_matrix.shape"
   ]
  },
  {
   "cell_type": "code",
   "execution_count": 21,
   "metadata": {
    "executionInfo": {
     "elapsed": 20,
     "status": "ok",
     "timestamp": 1642107299477,
     "user": {
      "displayName": "hafida hidani",
      "photoUrl": "https://lh3.googleusercontent.com/a/default-user=s64",
      "userId": "05618405513311899808"
     },
     "user_tz": -60
    },
    "id": "7ekxYR6eN1Sb"
   },
   "outputs": [],
   "source": [
    "for word, index in tokenizer.word_index.items():\n",
    "    if index < max_words: # since index starts with zero \n",
    "        if word in glove_gensim.wv.vocab:\n",
    "            gensim_weight_matrix[index] = glove_gensim[word]\n",
    "        else:\n",
    "            gensim_weight_matrix[index] = np.zeros(100)"
   ]
  },
  {
   "cell_type": "markdown",
   "metadata": {
    "id": "u_vlqDZl4lgF"
   },
   "source": [
    "* **tokenizer.word_index.items()** returns a dictionary of unique words as key and frequency as value.\n",
    "\n",
    "* Iterating the unique words and finding the corresponding word in **glove_gensim.wv.vocab**\n",
    "\n",
    "* **glove_gensim[‘DOG’]** returns the word vector for ‘DOG’.\n",
    "\n",
    "* If a word is found in glove vocabulary then return the corresponding vector and append it in **gensim_weight_matrix**.\n",
    "\n",
    "* **gensim_weight_matrix** must have the size of (number of unique words, glove_dimension)."
   ]
  },
  {
   "cell_type": "markdown",
   "metadata": {
    "id": "uW2qa_Mb4zDA"
   },
   "source": [
    "# **3.Emotion Detection Model Building**\n",
    "So far we preprocessed our data, converted our **y_label** into categorical data, mapped our vocabulary into the vector using word2vec.\n",
    "\n",
    "It’s time to design our Bi-LSTM model.\n",
    "\n",
    "Importing libraries needed."
   ]
  },
  {
   "cell_type": "code",
   "execution_count": null,
   "metadata": {
    "id": "VUjg-UwSOmNz"
   },
   "outputs": [],
   "source": [
    "#from tensorflow.keras.models import Sequential \n",
    "#from tensorflow.keras.layers import Dense, LSTM, Embedding,Bidirectional\n",
    "#import tensorflow\n",
    "#from tensorflow.keras.layers import Dropout"
   ]
  },
  {
   "cell_type": "markdown",
   "metadata": {
    "id": "iwo0Lrdf46HS"
   },
   "source": [
    "**Embedding Layer:** we already have created a word-embedding matrix. to feed our word_embedding matrix in our training we would use an embedding layer.\n",
    "\n",
    "There are 3 parameters in embedding layers.\n",
    "\n",
    "* **input_dim** : Vocabulary Size( number of unique words for training)\n",
    "\n",
    "* **output_dim** : Length of the vector for each word(embedding dimension)\n",
    "\n",
    "* **input_length** : Maximum length of a sequence\n",
    "\n",
    "* **trainable** : It’s False, which means it will only use a given weight matrix."
   ]
  },
  {
   "cell_type": "code",
   "execution_count": null,
   "metadata": {
    "colab": {
     "base_uri": "https://localhost:8080/"
    },
    "executionInfo": {
     "elapsed": 668,
     "status": "ok",
     "timestamp": 1642106023603,
     "user": {
      "displayName": "hafida hidani",
      "photoUrl": "https://lh3.googleusercontent.com/a/default-user=s64",
      "userId": "05618405513311899808"
     },
     "user_tz": -60
    },
    "id": "ASLS6VbPGwEs",
    "outputId": "4562d555-2dcf-4611-9c15-cd7be44b3c28"
   },
   "outputs": [
    {
     "data": {
      "text/plain": [
       "300"
      ]
     },
     "execution_count": 18,
     "metadata": {},
     "output_type": "execute_result"
    }
   ],
   "source": [
    "X_train_pad.shape[1]"
   ]
  },
  {
   "cell_type": "code",
   "execution_count": null,
   "metadata": {
    "id": "tMYdaIuBOvZT"
   },
   "outputs": [],
   "source": [
    "EMBEDDING_DIM = 100\n",
    "class_num = 6\n",
    "model = Sequential()\n",
    "model.add(Embedding(input_dim = max_words,output_dim = EMBEDDING_DIM,input_length= X_train_pad.shape[1],weights = [gensim_weight_matrix],trainable = False))\n",
    "model.add(Dropout(0.2))\n",
    "model.add(Bidirectional(LSTM(100,return_sequences=True)))\n",
    "model.add(Dropout(0.2))\n",
    "model.add(Bidirectional(LSTM(200,return_sequences=True)))\n",
    "model.add(Dropout(0.2))\n",
    "model.add(Bidirectional(LSTM(100,return_sequences=False)))\n",
    "model.add(Dense(class_num, activation = 'softmax'))\n",
    "model.compile(loss = 'categorical_crossentropy', optimizer = 'adam',metrics = 'accuracy')"
   ]
  },
  {
   "cell_type": "markdown",
   "metadata": {
    "id": "GBxzIdqP5CkM"
   },
   "source": [
    "* **EMBEDDING_DIM = 100** means the embedding layer will create a vector in 100 dimensions.\n",
    "\n",
    "* While Stacking RNN, the former RNN layers should be set **return_sequences** to True so that the following RNN layer layers can have the full sequence as input.\n",
    "\n",
    "* **class_num = 6** since we have 6 categories to classify."
   ]
  },
  {
   "cell_type": "markdown",
   "metadata": {
    "id": "eMDjZd4c5IXt"
   },
   "source": [
    "## **3.1.Defining Callbacks**\n",
    "\n",
    "In order to train efficiently, we defined some callbacks.\n",
    "\n",
    "To avoid the overfitting we use the early stop with the callbacks."
   ]
  },
  {
   "cell_type": "code",
   "execution_count": null,
   "metadata": {
    "id": "TNeEuEOIO7y3"
   },
   "outputs": [],
   "source": [
    "#EarlyStopping and ModelCheckpoint\n",
    "#from keras.callbacks import EarlyStopping, ModelCheckpoint\n",
    "es = EarlyStopping(monitor = 'val_loss', mode = 'min', verbose = 1, patience = 5)\n",
    "mc = ModelCheckpoint('/Data/model.h5', monitor = 'val_accuracy', mode = 'max', verbose = 1, save_best_only = True)"
   ]
  },
  {
   "cell_type": "markdown",
   "metadata": {
    "id": "PK6DCk4c5Oow"
   },
   "source": [
    "* **EarlyStopping** stops the training after some patience if no further improvement is observed or if training loss decreases and validation loss increases after a certain point.\n",
    "\n",
    "* **ModelChckpoint** saves the model checkpoint."
   ]
  },
  {
   "cell_type": "markdown",
   "metadata": {
    "id": "dXTmjmG25TZd"
   },
   "source": [
    "## **3.2.Training model**\n",
    "\n",
    "Now we are ready to train our designed model."
   ]
  },
  {
   "cell_type": "code",
   "execution_count": null,
   "metadata": {
    "colab": {
     "base_uri": "https://localhost:8080/"
    },
    "id": "yIrJh_w7fLQn",
    "outputId": "599b0558-7860-49a6-c214-c3b48efc778f"
   },
   "outputs": [
    {
     "name": "stdout",
     "output_type": "stream",
     "text": [
      "Epoch 1/25\n",
      "134/134 [==============================] - ETA: 0s - loss: 1.4328 - accuracy: 0.4430\n",
      "Epoch 00001: val_accuracy improved from -inf to 0.58100, saving model to ./model.h5\n",
      "134/134 [==============================] - 1045s 8s/step - loss: 1.4328 - accuracy: 0.4430 - val_loss: 1.2241 - val_accuracy: 0.5810\n",
      "Epoch 2/25\n",
      "134/134 [==============================] - ETA: 0s - loss: 1.1023 - accuracy: 0.5957\n",
      "Epoch 00002: val_accuracy improved from 0.58100 to 0.68650, saving model to ./model.h5\n",
      "134/134 [==============================] - 1002s 7s/step - loss: 1.1023 - accuracy: 0.5957 - val_loss: 0.8883 - val_accuracy: 0.6865\n",
      "Epoch 3/25\n",
      "134/134 [==============================] - ETA: 0s - loss: 0.8126 - accuracy: 0.7048\n",
      "Epoch 00003: val_accuracy improved from 0.68650 to 0.77900, saving model to ./model.h5\n",
      "134/134 [==============================] - 996s 7s/step - loss: 0.8126 - accuracy: 0.7048 - val_loss: 0.6033 - val_accuracy: 0.7790\n",
      "Epoch 4/25\n",
      "134/134 [==============================] - ETA: 0s - loss: 0.6477 - accuracy: 0.7618\n",
      "Epoch 00004: val_accuracy improved from 0.77900 to 0.84050, saving model to ./model.h5\n",
      "134/134 [==============================] - 988s 7s/step - loss: 0.6477 - accuracy: 0.7618 - val_loss: 0.4516 - val_accuracy: 0.8405\n",
      "Epoch 5/25\n",
      "134/134 [==============================] - ETA: 0s - loss: 0.5439 - accuracy: 0.7949\n",
      "Epoch 00005: val_accuracy improved from 0.84050 to 0.86100, saving model to ./model.h5\n",
      "134/134 [==============================] - 996s 7s/step - loss: 0.5439 - accuracy: 0.7949 - val_loss: 0.3767 - val_accuracy: 0.8610\n",
      "Epoch 6/25\n",
      "134/134 [==============================] - ETA: 0s - loss: 0.4696 - accuracy: 0.8298\n",
      "Epoch 00006: val_accuracy improved from 0.86100 to 0.87150, saving model to ./model.h5\n",
      "134/134 [==============================] - 992s 7s/step - loss: 0.4696 - accuracy: 0.8298 - val_loss: 0.3358 - val_accuracy: 0.8715\n",
      "Epoch 7/25\n",
      "134/134 [==============================] - ETA: 0s - loss: 0.4000 - accuracy: 0.8523\n",
      "Epoch 00007: val_accuracy improved from 0.87150 to 0.88750, saving model to ./model.h5\n",
      "134/134 [==============================] - 994s 7s/step - loss: 0.4000 - accuracy: 0.8523 - val_loss: 0.2892 - val_accuracy: 0.8875\n",
      "Epoch 8/25\n",
      "134/134 [==============================] - ETA: 0s - loss: 0.3578 - accuracy: 0.8629\n",
      "Epoch 00008: val_accuracy improved from 0.88750 to 0.88950, saving model to ./model.h5\n",
      "134/134 [==============================] - 996s 7s/step - loss: 0.3578 - accuracy: 0.8629 - val_loss: 0.2746 - val_accuracy: 0.8895\n",
      "Epoch 9/25\n",
      "134/134 [==============================] - ETA: 0s - loss: 0.3071 - accuracy: 0.8796\n",
      "Epoch 00009: val_accuracy improved from 0.88950 to 0.89950, saving model to ./model.h5\n",
      "134/134 [==============================] - 998s 7s/step - loss: 0.3071 - accuracy: 0.8796 - val_loss: 0.2518 - val_accuracy: 0.8995\n",
      "Epoch 10/25\n",
      "134/134 [==============================] - ETA: 0s - loss: 0.2799 - accuracy: 0.8892\n",
      "Epoch 00010: val_accuracy did not improve from 0.89950\n",
      "134/134 [==============================] - 989s 7s/step - loss: 0.2799 - accuracy: 0.8892 - val_loss: 0.2532 - val_accuracy: 0.8980\n",
      "Epoch 11/25\n",
      "134/134 [==============================] - ETA: 0s - loss: 0.2681 - accuracy: 0.8971\n",
      "Epoch 00011: val_accuracy improved from 0.89950 to 0.90700, saving model to ./model.h5\n",
      "134/134 [==============================] - 993s 7s/step - loss: 0.2681 - accuracy: 0.8971 - val_loss: 0.2345 - val_accuracy: 0.9070\n",
      "Epoch 12/25\n",
      "134/134 [==============================] - ETA: 0s - loss: 0.2401 - accuracy: 0.9038\n",
      "Epoch 00012: val_accuracy did not improve from 0.90700\n",
      "134/134 [==============================] - 994s 7s/step - loss: 0.2401 - accuracy: 0.9038 - val_loss: 0.2255 - val_accuracy: 0.9040\n",
      "Epoch 13/25\n",
      "134/134 [==============================] - ETA: 0s - loss: 0.2202 - accuracy: 0.9114\n",
      "Epoch 00013: val_accuracy improved from 0.90700 to 0.91100, saving model to ./model.h5\n",
      "134/134 [==============================] - 997s 7s/step - loss: 0.2202 - accuracy: 0.9114 - val_loss: 0.2239 - val_accuracy: 0.9110\n",
      "Epoch 14/25\n",
      "134/134 [==============================] - ETA: 0s - loss: 0.2059 - accuracy: 0.9143\n",
      "Epoch 00014: val_accuracy did not improve from 0.91100\n",
      "134/134 [==============================] - 995s 7s/step - loss: 0.2059 - accuracy: 0.9143 - val_loss: 0.2133 - val_accuracy: 0.9060\n",
      "Epoch 15/25\n",
      "134/134 [==============================] - ETA: 0s - loss: 0.1992 - accuracy: 0.9178\n",
      "Epoch 00015: val_accuracy improved from 0.91100 to 0.91550, saving model to ./model.h5\n",
      "134/134 [==============================] - 995s 7s/step - loss: 0.1992 - accuracy: 0.9178 - val_loss: 0.2014 - val_accuracy: 0.9155\n",
      "Epoch 16/25\n",
      "134/134 [==============================] - ETA: 0s - loss: 0.1877 - accuracy: 0.9211\n",
      "Epoch 00016: val_accuracy did not improve from 0.91550\n",
      "134/134 [==============================] - 997s 7s/step - loss: 0.1877 - accuracy: 0.9211 - val_loss: 0.2081 - val_accuracy: 0.9145\n",
      "Epoch 17/25\n",
      "134/134 [==============================] - ETA: 0s - loss: 0.1773 - accuracy: 0.9271\n",
      "Epoch 00017: val_accuracy improved from 0.91550 to 0.91600, saving model to ./model.h5\n",
      "134/134 [==============================] - 999s 7s/step - loss: 0.1773 - accuracy: 0.9271 - val_loss: 0.1939 - val_accuracy: 0.9160\n",
      "Epoch 18/25\n",
      "134/134 [==============================] - ETA: 0s - loss: 0.1681 - accuracy: 0.9300\n",
      "Epoch 00018: val_accuracy did not improve from 0.91600\n",
      "134/134 [==============================] - 1003s 7s/step - loss: 0.1681 - accuracy: 0.9300 - val_loss: 0.2168 - val_accuracy: 0.9110\n",
      "Epoch 19/25\n",
      "134/134 [==============================] - ETA: 0s - loss: 0.1593 - accuracy: 0.9320\n",
      "Epoch 00019: val_accuracy improved from 0.91600 to 0.91650, saving model to ./model.h5\n",
      "134/134 [==============================] - 994s 7s/step - loss: 0.1593 - accuracy: 0.9320 - val_loss: 0.2115 - val_accuracy: 0.9165\n",
      "Epoch 20/25\n",
      "134/134 [==============================] - ETA: 0s - loss: 0.1544 - accuracy: 0.9335\n",
      "Epoch 00020: val_accuracy did not improve from 0.91650\n",
      "134/134 [==============================] - 995s 7s/step - loss: 0.1544 - accuracy: 0.9335 - val_loss: 0.2159 - val_accuracy: 0.9150\n",
      "Epoch 21/25\n",
      "134/134 [==============================] - ETA: 0s - loss: 0.1433 - accuracy: 0.9400\n",
      "Epoch 00021: val_accuracy did not improve from 0.91650\n",
      "134/134 [==============================] - 1003s 7s/step - loss: 0.1433 - accuracy: 0.9400 - val_loss: 0.2009 - val_accuracy: 0.9165\n",
      "Epoch 22/25\n",
      "134/134 [==============================] - ETA: 0s - loss: 0.1449 - accuracy: 0.9367\n",
      "Epoch 00022: val_accuracy improved from 0.91650 to 0.93100, saving model to ./model.h5\n",
      "134/134 [==============================] - 1001s 7s/step - loss: 0.1449 - accuracy: 0.9367 - val_loss: 0.1811 - val_accuracy: 0.9310\n",
      "Epoch 23/25\n",
      "134/134 [==============================] - ETA: 0s - loss: 0.1325 - accuracy: 0.9420\n",
      "Epoch 00023: val_accuracy did not improve from 0.93100\n",
      "134/134 [==============================] - 992s 7s/step - loss: 0.1325 - accuracy: 0.9420 - val_loss: 0.1852 - val_accuracy: 0.9230\n",
      "Epoch 24/25\n",
      "134/134 [==============================] - ETA: 0s - loss: 0.1216 - accuracy: 0.9461\n",
      "Epoch 00024: val_accuracy did not improve from 0.93100\n",
      "134/134 [==============================] - 988s 7s/step - loss: 0.1216 - accuracy: 0.9461 - val_loss: 0.1993 - val_accuracy: 0.9255\n",
      "Epoch 25/25\n",
      "134/134 [==============================] - ETA: 0s - loss: 0.1261 - accuracy: 0.9446\n",
      "Epoch 00025: val_accuracy did not improve from 0.93100\n",
      "134/134 [==============================] - 991s 7s/step - loss: 0.1261 - accuracy: 0.9446 - val_loss: 0.1929 - val_accuracy: 0.9275\n"
     ]
    }
   ],
   "source": [
    "history_embedding = model.fit(X_train_pad, y_train, \n",
    "                                epochs = 25, batch_size = 120, \n",
    "                                validation_data=(X_val_pad, y_val),\n",
    "                                verbose = 1, callbacks= [es, mc])"
   ]
  },
  {
   "cell_type": "markdown",
   "metadata": {
    "id": "iUjkR2Wb5uiI"
   },
   "source": [
    "**history_embedding** keeps the history of model training.\n",
    "\n",
    "**JSON** is a simple file format for describing data hierarchically.\n",
    "\n",
    "Keras provides the ability to describe any model using JSON format with a **to_json()** function. This can be saved to file and later loaded via the **model_from_json()** function that will create a new model from the JSON specification.\n",
    "\n",
    "The weights are saved directly from the model using the **save_weights()** function and later loaded using the symmetrical load_weights() function."
   ]
  },
  {
   "cell_type": "code",
   "execution_count": null,
   "metadata": {},
   "outputs": [],
   "source": [
    "#save model\n",
    "fer_json = model.to_json()\n",
    "with open(\"/content/gdrive/My Drive/Colab Notebooks/emotions-dataset-for-nlp/RNN/ter.json\", \"w\") as json_file:\n",
    "    json_file.write(fer_json)\n",
    "model.save_weights(\"/content/gdrive/My Drive/Colab Notebooks/emotions-dataset-for-nlp/RNN/ter.h5\")"
   ]
  },
  {
   "cell_type": "markdown",
   "metadata": {
    "id": "zCNSIZyS5e4B"
   },
   "source": [
    "## **3.3.Save Keras Tokenizer**\n",
    "The tokenizer will transform the text into vectors, it’s important to have the same vector space between training & predicting. The most common way is to save tokenizer and load the same tokenizer at predicting time using pickle."
   ]
  },
  {
   "cell_type": "code",
   "execution_count": null,
   "metadata": {
    "id": "aa6da38qXmx4"
   },
   "outputs": [],
   "source": [
    "#import pickle\n",
    "\n",
    "with open('/Data/tokenizer.pickle', 'wb') as handle:\n",
    "    pickle.dump(tokenizer, handle, protocol=pickle.HIGHEST_PROTOCOL)"
   ]
  },
  {
   "cell_type": "markdown",
   "metadata": {
    "id": "cmq17x-e5Z-S"
   },
   "source": [
    "## **3.4.Plotting the History**\n",
    "\n",
    "Using training history analyzing the model performance. "
   ]
  },
  {
   "cell_type": "code",
   "execution_count": null,
   "metadata": {
    "colab": {
     "base_uri": "https://localhost:8080/",
     "height": 265
    },
    "id": "46BWkqHxDGHk",
    "outputId": "a97d99db-2bc5-418c-a132-7d517ad02b80"
   },
   "outputs": [
    {
     "data": {
      "image/png": "[encoded data removed]",
      "text/plain": [
       "<Figure size 432x288 with 1 Axes>"
      ]
     },
     "metadata": {
      "needs_background": "light"
     },
     "output_type": "display_data"
    }
   ],
   "source": [
    "plt.plot(history_embedding.history['accuracy'],c='b',label='train accuracy')\n",
    "plt.plot(history_embedding.history['val_accuracy'],c='r',label='validation accuracy')\n",
    "plt.legend(loc='lower right')\n",
    "plt.show()"
   ]
  },
  {
   "cell_type": "markdown",
   "metadata": {
    "id": "zQMUnd876Iin"
   },
   "source": [
    "# **4.Load Keras Model for Prediction**\n",
    "The model and weight data is loaded from the saved files and a new model is created. It is important to compile the loaded model before it is used. This is so that predictions made using the model can use the appropriate efficient computation from the Keras backend.\n",
    "\n",
    "You have to load both a model and a tokenizer in order to predict new data."
   ]
  },
  {
   "cell_type": "code",
   "execution_count": 65,
   "metadata": {
    "executionInfo": {
     "elapsed": 1224,
     "status": "ok",
     "timestamp": 1642109382338,
     "user": {
      "displayName": "hafida hidani",
      "photoUrl": "https://lh3.googleusercontent.com/a/default-user=s64",
      "userId": "05618405513311899808"
     },
     "user_tz": -60
    },
    "id": "n4nROE5UStcF"
   },
   "outputs": [],
   "source": [
    "#from tensorflow import keras\n",
    "#from keras.models import model_from_json"
   ]
  },
  {
   "cell_type": "code",
   "execution_count": 82,
   "metadata": {
    "executionInfo": {
     "elapsed": 3025,
     "status": "ok",
     "timestamp": 1642112113232,
     "user": {
      "displayName": "hafida hidani",
      "photoUrl": "https://lh3.googleusercontent.com/a/default-user=s64",
      "userId": "05618405513311899808"
     },
     "user_tz": -60
    },
    "id": "rNtD0YMLYHdF"
   },
   "outputs": [],
   "source": [
    "#load model\n",
    "model = model_from_json(open(\"../content/drive/MyDrive/Colab Notebooks/TER/Data/fer.json\", \"r\").read())\n",
    "\n",
    "#load weights\n",
    "model.load_weights('../content/drive/MyDrive/Colab Notebooks/TER/Data/fer.h5')\n",
    "\n",
    "#load tokenizer\n",
    "with open('../content/drive/MyDrive/Colab Notebooks/TER/Data/tokenizer.pickle', 'rb') as handle:\n",
    "    loaded_tokenizer = pickle.load(handle)\n"
   ]
  },
  {
   "cell_type": "markdown",
   "metadata": {
    "id": "ab11jVK67Zx0"
   },
   "source": [
    "You must use the same Tokenizer you used to build your model. Else this will give different vector to each word at time prediction. The pickle loaded tokenizer is ready to use."
   ]
  },
  {
   "cell_type": "markdown",
   "metadata": {
    "id": "MUwWBn4r53Oj"
   },
   "source": [
    "## **4.1.Test the Emotion Detection Model**\n",
    "We have prepared **X_test_pad** for testing purposes, it’s time to test on it.\n",
    "\n",
    "* **np.argmax** returns the index of maximum probability."
   ]
  },
  {
   "cell_type": "code",
   "execution_count": 23,
   "metadata": {
    "colab": {
     "base_uri": "https://localhost:8080/"
    },
    "executionInfo": {
     "elapsed": 50883,
     "status": "ok",
     "timestamp": 1642107354569,
     "user": {
      "displayName": "hafida hidani",
      "photoUrl": "https://lh3.googleusercontent.com/a/default-user=s64",
      "userId": "05618405513311899808"
     },
     "user_tz": -60
    },
    "id": "SC9-_F8dgOkA",
    "outputId": "4bce530b-2b34-475d-ece1-4ad30b500358"
   },
   "outputs": [
    {
     "name": "stdout",
     "output_type": "stream",
     "text": [
      "              precision    recall  f1-score   support\n",
      "\n",
      "           0       0.94      0.92      0.93       711\n",
      "           1       0.91      0.92      0.91       272\n",
      "           2       0.77      0.81      0.79       150\n",
      "           3       0.94      0.96      0.95       573\n",
      "           4       0.92      0.85      0.88       240\n",
      "           5       0.61      0.74      0.67        54\n",
      "\n",
      "    accuracy                           0.91      2000\n",
      "   macro avg       0.85      0.87      0.86      2000\n",
      "weighted avg       0.91      0.91      0.91      2000\n",
      "\n"
     ]
    }
   ],
   "source": [
    "y_pred =   np.argmax(model.predict(X_test_pad), axis  =  1)\n",
    "y_true = np.argmax(y_test, axis = 1)\n",
    "#from sklearn import metrics\n",
    "print(metrics.classification_report(y_pred, y_true))\n"
   ]
  },
  {
   "cell_type": "markdown",
   "metadata": {
    "id": "7Rl5iLCH6FcR"
   },
   "source": [
    "wow! it really performed well, as you see this is the result we got using our test data."
   ]
  },
  {
   "cell_type": "markdown",
   "metadata": {
    "id": "X6GlRMj-7lW_"
   },
   "source": [
    "## **4.2.Predict New Text emotion**\n",
    "Now for scoring, We are using a load model, we were able to save the tokenizer and model to a file and load from a file. Without this, we’ll have to process the corpus every time we need to score even a single sentence."
   ]
  },
  {
   "cell_type": "code",
   "execution_count": 104,
   "metadata": {
    "colab": {
     "base_uri": "https://localhost:8080/"
    },
    "executionInfo": {
     "elapsed": 9185,
     "status": "ok",
     "timestamp": 1642112750106,
     "user": {
      "displayName": "hafida hidani",
      "photoUrl": "https://lh3.googleusercontent.com/a/default-user=s64",
      "userId": "05618405513311899808"
     },
     "user_tz": -60
    },
    "id": "lKISlc5yUlQe",
    "outputId": "506b1006-6d0f-41c4-edb3-50d3bafe5862"
   },
   "outputs": [
    {
     "name": "stdout",
     "output_type": "stream",
     "text": [
      "input the text:  \n",
      "i feel like reds and purples are just so rich and kind of perfect\n",
      "[[9.9598770e+01 3.3272486e-02 2.7460998e-01 6.0605694e-02 8.6299181e-03\n",
      "  2.4111558e-02]]\n"
     ]
    }
   ],
   "source": [
    "txt = input(str('input the text:  \\n'))\n",
    "#seq= loaded_tokenizer.texts_to_sequences([txt])\n",
    "#padded = keras.preprocessing.sequence.pad_sequences(seq, maxlen=None)\n",
    "#pred = model.predict(padded)*100\n",
    "#print(pred)\n",
    "seq= loaded_tokenizer.texts_to_sequences([txt])\n",
    "padded = pad_sequences(seq, maxlen=None)\n",
    "pred = model.predict(padded)*100\n",
    "print(pred)"
   ]
  },
  {
   "cell_type": "code",
   "execution_count": 105,
   "metadata": {
    "colab": {
     "base_uri": "https://localhost:8080/"
    },
    "executionInfo": {
     "elapsed": 25,
     "status": "ok",
     "timestamp": 1642112750108,
     "user": {
      "displayName": "hafida hidani",
      "photoUrl": "https://lh3.googleusercontent.com/a/default-user=s64",
      "userId": "05618405513311899808"
     },
     "user_tz": -60
    },
    "id": "TRH06dFw9F31",
    "outputId": "9ab4bb23-e617-4d13-d730-f4ee86eb3570"
   },
   "outputs": [
    {
     "name": "stdout",
     "output_type": "stream",
     "text": [
      "joy 99.59877\n",
      "anger 0.033272486\n",
      "love 0.27460998\n",
      "sadness 0.060605694\n",
      "fear 0.008629918\n",
      "surprise 0.024111558\n"
     ]
    }
   ],
   "source": [
    "for key , value in zip(encoded_dict.keys(),pred[0]):\n",
    "  print(key,value)"
   ]
  },
  {
   "cell_type": "code",
   "execution_count": 106,
   "metadata": {
    "colab": {
     "base_uri": "https://localhost:8080/"
    },
    "executionInfo": {
     "elapsed": 24,
     "status": "ok",
     "timestamp": 1642112750109,
     "user": {
      "displayName": "hafida hidani",
      "photoUrl": "https://lh3.googleusercontent.com/a/default-user=s64",
      "userId": "05618405513311899808"
     },
     "user_tz": -60
    },
    "id": "CtdLB-vp1FfC",
    "outputId": "39ee6597-8e05-4721-efd7-d03c6c9fb9d9"
   },
   "outputs": [
    {
     "name": "stdout",
     "output_type": "stream",
     "text": [
      "joy 99.59877\n"
     ]
    }
   ],
   "source": [
    "max = 0\n",
    "key_max = \"\"\n",
    "for key , value in zip(encoded_dict.keys(),pred[0]):\n",
    "  if max <= value:\n",
    "    max = value\n",
    "    key_max = key\n",
    "print(key_max,max)\n",
    "    "
   ]
  },
  {
   "cell_type": "markdown",
   "metadata": {
    "id": "QkN38HJlT0g9"
   },
   "source": [
    "# **Conclusion**\n",
    "This is how you can create an emotion detection model, let’s recheck the whole pipeline again:\n",
    "\n",
    "* Take the input text.\n",
    "\n",
    "* Use tokenizer converts into integer sequence.\n",
    "\n",
    "* Use pad_sequence to make sequence length equal to the length used for training.\n",
    "\n",
    "* Now pass the padded_sequence to model and call predict method, it will give you class index.\n",
    "\n",
    "* Using the dictionary we defined earlier change the class index to the class label.\n",
    "\n",
    "you can improve results further by using the BERT State of the Art model and by using word embeddings of higher dimensions ie 300 you can improve further."
   ]
  },
  {
   "cell_type": "code",
   "execution_count": 31,
   "metadata": {
    "colab": {
     "base_uri": "https://localhost:8080/",
     "height": 490
    },
    "executionInfo": {
     "elapsed": 1005,
     "status": "ok",
     "timestamp": 1642107560161,
     "user": {
      "displayName": "hafida hidani",
      "photoUrl": "https://lh3.googleusercontent.com/a/default-user=s64",
      "userId": "05618405513311899808"
     },
     "user_tz": -60
    },
    "id": "ZGxr4DGher4S",
    "outputId": "616ea2d2-53df-4a59-b0ec-5db31c289542"
   },
   "outputs": [
    {
     "name": "stdout",
     "output_type": "stream",
     "text": [
      "{'love', 'anger', 'surprise', 'joy', 'fear', 'sadness'}\n"
     ]
    },
    {
     "data": {
      "image/png": "[encoded data removed]",
      "text/plain": [
       "<Figure size 576x576 with 2 Axes>"
      ]
     },
     "metadata": {
      "needs_background": "light"
     },
     "output_type": "display_data"
    }
   ],
   "source": [
    "classes = {'joy','anger','love','sadness','fear','surprise'}\n",
    "print(classes)\n",
    "def show_confusion_matrix(y_true, y_pred, classes):\n",
    "    from sklearn.metrics import confusion_matrix\n",
    "    \n",
    "    cm = confusion_matrix(y_true, y_pred, normalize='true')\n",
    "\n",
    "    plt.figure(figsize=(8, 8))\n",
    "    sp = plt.subplot(1, 1, 1)\n",
    "    ctx = sp.matshow(cm)\n",
    "    plt.xticks(list(range(0, 6)), labels=classes)\n",
    "    plt.yticks(list(range(0, 6)), labels=classes)\n",
    "    plt.colorbar(ctx)\n",
    "    plt.show()\n",
    "    \n",
    "show_confusion_matrix(y_true, y_pred, list(classes))"
   ]
  },
  {
   "cell_type": "code",
   "execution_count": null,
   "metadata": {
    "id": "EL8SYnPKUIrE"
   },
   "outputs": [],
   "source": []
  }
 ],
 "metadata": {
  "colab": {
   "authorship_tag": "ABX9TyP8sUJtAKN323i8187Bz9eD",
   "collapsed_sections": [],
   "name": "ter.ipynb",
   "provenance": []
  },
  "kernelspec": {
   "display_name": "Python 3 (ipykernel)",
   "language": "python",
   "name": "python3"
  },
  "language_info": {
   "codemirror_mode": {
    "name": "ipython",
    "version": 3
   },
   "file_extension": ".py",
   "mimetype": "text/x-python",
   "name": "python",
   "nbconvert_exporter": "python",
   "pygments_lexer": "ipython3",
   "version": "3.9.7"
  },
  "widgets": {
   "application/vnd.jupyter.widget-state+json": {
    "00099852aa9144cca57f6a7f76b2a84a": {
     "model_module": "@jupyter-widgets/controls",
     "model_module_version": "1.5.0",
     "model_name": "FloatProgressModel",
     "state": {
      "_dom_classes": [],
      "_model_module": "@jupyter-widgets/controls",
      "_model_module_version": "1.5.0",
      "_model_name": "FloatProgressModel",
      "_view_count": null,
      "_view_module": "@jupyter-widgets/controls",
      "_view_module_version": "1.5.0",
      "_view_name": "ProgressView",
      "bar_style": "success",
      "description": "",
      "description_tooltip": null,
      "layout": "IPY_MODEL_f7339bef2d0d48c8b6868e03ca39bece",
      "max": 16000,
      "min": 0,
      "orientation": "horizontal",
      "style": "IPY_MODEL_b1e7c0c3d68c461b927a306077ec45db",
      "value": 16000
     }
    },
    "00d697f006d0485fae1c61460dc8a702": {
     "model_module": "@jupyter-widgets/controls",
     "model_module_version": "1.5.0",
     "model_name": "HBoxModel",
     "state": {
      "_dom_classes": [],
      "_model_module": "@jupyter-widgets/controls",
      "_model_module_version": "1.5.0",
      "_model_name": "HBoxModel",
      "_view_count": null,
      "_view_module": "@jupyter-widgets/controls",
      "_view_module_version": "1.5.0",
      "_view_name": "HBoxView",
      "box_style": "",
      "children": [
       "IPY_MODEL_7385b4a492fd43d89039bfccd1864bdd",
       "IPY_MODEL_2bf18ea101974bf8a0b37589ea263e09",
       "IPY_MODEL_51cdba52bfd941dab913957bdcc5505c"
      ],
      "layout": "IPY_MODEL_02385c094f3a47feae403688f7b38ed5"
     }
    },
    "02385c094f3a47feae403688f7b38ed5": {
     "model_module": "@jupyter-widgets/base",
     "model_module_version": "1.2.0",
     "model_name": "LayoutModel",
     "state": {
      "_model_module": "@jupyter-widgets/base",
      "_model_module_version": "1.2.0",
      "_model_name": "LayoutModel",
      "_view_count": null,
      "_view_module": "@jupyter-widgets/base",
      "_view_module_version": "1.2.0",
      "_view_name": "LayoutView",
      "align_content": null,
      "align_items": null,
      "align_self": null,
      "border": null,
      "bottom": null,
      "display": null,
      "flex": null,
      "flex_flow": null,
      "grid_area": null,
      "grid_auto_columns": null,
      "grid_auto_flow": null,
      "grid_auto_rows": null,
      "grid_column": null,
      "grid_gap": null,
      "grid_row": null,
      "grid_template_areas": null,
      "grid_template_columns": null,
      "grid_template_rows": null,
      "height": null,
      "justify_content": null,
      "justify_items": null,
      "left": null,
      "margin": null,
      "max_height": null,
      "max_width": null,
      "min_height": null,
      "min_width": null,
      "object_fit": null,
      "object_position": null,
      "order": null,
      "overflow": null,
      "overflow_x": null,
      "overflow_y": null,
      "padding": null,
      "right": null,
      "top": null,
      "visibility": null,
      "width": null
     }
    },
    "02ac69bd21f74f579502ae72faf97b25": {
     "model_module": "@jupyter-widgets/base",
     "model_module_version": "1.2.0",
     "model_name": "LayoutModel",
     "state": {
      "_model_module": "@jupyter-widgets/base",
      "_model_module_version": "1.2.0",
      "_model_name": "LayoutModel",
      "_view_count": null,
      "_view_module": "@jupyter-widgets/base",
      "_view_module_version": "1.2.0",
      "_view_name": "LayoutView",
      "align_content": null,
      "align_items": null,
      "align_self": null,
      "border": null,
      "bottom": null,
      "display": null,
      "flex": null,
      "flex_flow": null,
      "grid_area": null,
      "grid_auto_columns": null,
      "grid_auto_flow": null,
      "grid_auto_rows": null,
      "grid_column": null,
      "grid_gap": null,
      "grid_row": null,
      "grid_template_areas": null,
      "grid_template_columns": null,
      "grid_template_rows": null,
      "height": null,
      "justify_content": null,
      "justify_items": null,
      "left": null,
      "margin": null,
      "max_height": null,
      "max_width": null,
      "min_height": null,
      "min_width": null,
      "object_fit": null,
      "object_position": null,
      "order": null,
      "overflow": null,
      "overflow_x": null,
      "overflow_y": null,
      "padding": null,
      "right": null,
      "top": null,
      "visibility": null,
      "width": null
     }
    },
    "05498ef155df470482648b24a139214e": {
     "model_module": "@jupyter-widgets/controls",
     "model_module_version": "1.5.0",
     "model_name": "HTMLModel",
     "state": {
      "_dom_classes": [],
      "_model_module": "@jupyter-widgets/controls",
      "_model_module_version": "1.5.0",
      "_model_name": "HTMLModel",
      "_view_count": null,
      "_view_module": "@jupyter-widgets/controls",
      "_view_module_version": "1.5.0",
      "_view_name": "HTMLView",
      "description": "",
      "description_tooltip": null,
      "layout": "IPY_MODEL_73f94261ed8f4342ba0ef7f71caff296",
      "placeholder": "​",
      "style": "IPY_MODEL_bb9fe59275514d59b883ece618b15105",
      "value": "100%"
     }
    },
    "058ff05abad94c4faa927828547dd40d": {
     "model_module": "@jupyter-widgets/base",
     "model_module_version": "1.2.0",
     "model_name": "LayoutModel",
     "state": {
      "_model_module": "@jupyter-widgets/base",
      "_model_module_version": "1.2.0",
      "_model_name": "LayoutModel",
      "_view_count": null,
      "_view_module": "@jupyter-widgets/base",
      "_view_module_version": "1.2.0",
      "_view_name": "LayoutView",
      "align_content": null,
      "align_items": null,
      "align_self": null,
      "border": null,
      "bottom": null,
      "display": null,
      "flex": null,
      "flex_flow": null,
      "grid_area": null,
      "grid_auto_columns": null,
      "grid_auto_flow": null,
      "grid_auto_rows": null,
      "grid_column": null,
      "grid_gap": null,
      "grid_row": null,
      "grid_template_areas": null,
      "grid_template_columns": null,
      "grid_template_rows": null,
      "height": null,
      "justify_content": null,
      "justify_items": null,
      "left": null,
      "margin": null,
      "max_height": null,
      "max_width": null,
      "min_height": null,
      "min_width": null,
      "object_fit": null,
      "object_position": null,
      "order": null,
      "overflow": null,
      "overflow_x": null,
      "overflow_y": null,
      "padding": null,
      "right": null,
      "top": null,
      "visibility": null,
      "width": null
     }
    },
    "0c32c34e5c754ad9b3043798829cb487": {
     "model_module": "@jupyter-widgets/controls",
     "model_module_version": "1.5.0",
     "model_name": "DescriptionStyleModel",
     "state": {
      "_model_module": "@jupyter-widgets/controls",
      "_model_module_version": "1.5.0",
      "_model_name": "DescriptionStyleModel",
      "_view_count": null,
      "_view_module": "@jupyter-widgets/base",
      "_view_module_version": "1.2.0",
      "_view_name": "StyleView",
      "description_width": ""
     }
    },
    "0e596554215f48b29d3668baa620c629": {
     "model_module": "@jupyter-widgets/controls",
     "model_module_version": "1.5.0",
     "model_name": "DescriptionStyleModel",
     "state": {
      "_model_module": "@jupyter-widgets/controls",
      "_model_module_version": "1.5.0",
      "_model_name": "DescriptionStyleModel",
      "_view_count": null,
      "_view_module": "@jupyter-widgets/base",
      "_view_module_version": "1.2.0",
      "_view_name": "StyleView",
      "description_width": ""
     }
    },
    "0ead38cc9ab34eb4a86a03818030f2fd": {
     "model_module": "@jupyter-widgets/controls",
     "model_module_version": "1.5.0",
     "model_name": "HBoxModel",
     "state": {
      "_dom_classes": [],
      "_model_module": "@jupyter-widgets/controls",
      "_model_module_version": "1.5.0",
      "_model_name": "HBoxModel",
      "_view_count": null,
      "_view_module": "@jupyter-widgets/controls",
      "_view_module_version": "1.5.0",
      "_view_name": "HBoxView",
      "box_style": "",
      "children": [
       "IPY_MODEL_52500a59dc6e4af581acced1b4bc9357",
       "IPY_MODEL_a756e036f963449a8c1e19a2e00acfca",
       "IPY_MODEL_2cbb0d37b4344ed7802885137452eb12"
      ],
      "layout": "IPY_MODEL_46de149aa1c141b49be26de8cb8f44a2"
     }
    },
    "18865bad57bb4ea6ad73d5166f0ec973": {
     "model_module": "@jupyter-widgets/base",
     "model_module_version": "1.2.0",
     "model_name": "LayoutModel",
     "state": {
      "_model_module": "@jupyter-widgets/base",
      "_model_module_version": "1.2.0",
      "_model_name": "LayoutModel",
      "_view_count": null,
      "_view_module": "@jupyter-widgets/base",
      "_view_module_version": "1.2.0",
      "_view_name": "LayoutView",
      "align_content": null,
      "align_items": null,
      "align_self": null,
      "border": null,
      "bottom": null,
      "display": null,
      "flex": null,
      "flex_flow": null,
      "grid_area": null,
      "grid_auto_columns": null,
      "grid_auto_flow": null,
      "grid_auto_rows": null,
      "grid_column": null,
      "grid_gap": null,
      "grid_row": null,
      "grid_template_areas": null,
      "grid_template_columns": null,
      "grid_template_rows": null,
      "height": null,
      "justify_content": null,
      "justify_items": null,
      "left": null,
      "margin": null,
      "max_height": null,
      "max_width": null,
      "min_height": null,
      "min_width": null,
      "object_fit": null,
      "object_position": null,
      "order": null,
      "overflow": null,
      "overflow_x": null,
      "overflow_y": null,
      "padding": null,
      "right": null,
      "top": null,
      "visibility": null,
      "width": null
     }
    },
    "195906ffc25e4fc4b2e782e6c2645dd6": {
     "model_module": "@jupyter-widgets/controls",
     "model_module_version": "1.5.0",
     "model_name": "ProgressStyleModel",
     "state": {
      "_model_module": "@jupyter-widgets/controls",
      "_model_module_version": "1.5.0",
      "_model_name": "ProgressStyleModel",
      "_view_count": null,
      "_view_module": "@jupyter-widgets/base",
      "_view_module_version": "1.2.0",
      "_view_name": "StyleView",
      "bar_color": null,
      "description_width": ""
     }
    },
    "1ae3b6adddc044899131b907b2fa13d5": {
     "model_module": "@jupyter-widgets/base",
     "model_module_version": "1.2.0",
     "model_name": "LayoutModel",
     "state": {
      "_model_module": "@jupyter-widgets/base",
      "_model_module_version": "1.2.0",
      "_model_name": "LayoutModel",
      "_view_count": null,
      "_view_module": "@jupyter-widgets/base",
      "_view_module_version": "1.2.0",
      "_view_name": "LayoutView",
      "align_content": null,
      "align_items": null,
      "align_self": null,
      "border": null,
      "bottom": null,
      "display": null,
      "flex": null,
      "flex_flow": null,
      "grid_area": null,
      "grid_auto_columns": null,
      "grid_auto_flow": null,
      "grid_auto_rows": null,
      "grid_column": null,
      "grid_gap": null,
      "grid_row": null,
      "grid_template_areas": null,
      "grid_template_columns": null,
      "grid_template_rows": null,
      "height": null,
      "justify_content": null,
      "justify_items": null,
      "left": null,
      "margin": null,
      "max_height": null,
      "max_width": null,
      "min_height": null,
      "min_width": null,
      "object_fit": null,
      "object_position": null,
      "order": null,
      "overflow": null,
      "overflow_x": null,
      "overflow_y": null,
      "padding": null,
      "right": null,
      "top": null,
      "visibility": null,
      "width": null
     }
    },
    "23194aca7e5145a589d62a4fb1497fa3": {
     "model_module": "@jupyter-widgets/controls",
     "model_module_version": "1.5.0",
     "model_name": "HTMLModel",
     "state": {
      "_dom_classes": [],
      "_model_module": "@jupyter-widgets/controls",
      "_model_module_version": "1.5.0",
      "_model_name": "HTMLModel",
      "_view_count": null,
      "_view_module": "@jupyter-widgets/controls",
      "_view_module_version": "1.5.0",
      "_view_name": "HTMLView",
      "description": "",
      "description_tooltip": null,
      "layout": "IPY_MODEL_db85844b4b564fb485c0fb15e72f63eb",
      "placeholder": "​",
      "style": "IPY_MODEL_e94b986fb26e4c9094e1b94c99553d5e",
      "value": "100%"
     }
    },
    "232bc99f85d048ed8aa3ebecc90e30fa": {
     "model_module": "@jupyter-widgets/controls",
     "model_module_version": "1.5.0",
     "model_name": "HTMLModel",
     "state": {
      "_dom_classes": [],
      "_model_module": "@jupyter-widgets/controls",
      "_model_module_version": "1.5.0",
      "_model_name": "HTMLModel",
      "_view_count": null,
      "_view_module": "@jupyter-widgets/controls",
      "_view_module_version": "1.5.0",
      "_view_name": "HTMLView",
      "description": "",
      "description_tooltip": null,
      "layout": "IPY_MODEL_88a17bca0ac045518da90d8a40324efc",
      "placeholder": "​",
      "style": "IPY_MODEL_8077bf47c7a644828c4c97f00731ea20",
      "value": " 16000/16000 [00:23&lt;00:00, 688.26it/s]"
     }
    },
    "2bf18ea101974bf8a0b37589ea263e09": {
     "model_module": "@jupyter-widgets/controls",
     "model_module_version": "1.5.0",
     "model_name": "FloatProgressModel",
     "state": {
      "_dom_classes": [],
      "_model_module": "@jupyter-widgets/controls",
      "_model_module_version": "1.5.0",
      "_model_name": "FloatProgressModel",
      "_view_count": null,
      "_view_module": "@jupyter-widgets/controls",
      "_view_module_version": "1.5.0",
      "_view_name": "ProgressView",
      "bar_style": "success",
      "description": "",
      "description_tooltip": null,
      "layout": "IPY_MODEL_b0009a1c637c4644961c058a7b1e4d87",
      "max": 16000,
      "min": 0,
      "orientation": "horizontal",
      "style": "IPY_MODEL_b2c15e871330490c9131cce1506adbb1",
      "value": 16000
     }
    },
    "2cbb0d37b4344ed7802885137452eb12": {
     "model_module": "@jupyter-widgets/controls",
     "model_module_version": "1.5.0",
     "model_name": "HTMLModel",
     "state": {
      "_dom_classes": [],
      "_model_module": "@jupyter-widgets/controls",
      "_model_module_version": "1.5.0",
      "_model_name": "HTMLModel",
      "_view_count": null,
      "_view_module": "@jupyter-widgets/controls",
      "_view_module_version": "1.5.0",
      "_view_name": "HTMLView",
      "description": "",
      "description_tooltip": null,
      "layout": "IPY_MODEL_815a03ba70c64e7d93c4c5c1cf6df158",
      "placeholder": "​",
      "style": "IPY_MODEL_f8674bcf86de4810abeaeda6c85d5205",
      "value": " 16000/16000 [02:23&lt;00:00, 110.42it/s]"
     }
    },
    "323150eb7c554a5d9a9356da58ab1bb0": {
     "model_module": "@jupyter-widgets/base",
     "model_module_version": "1.2.0",
     "model_name": "LayoutModel",
     "state": {
      "_model_module": "@jupyter-widgets/base",
      "_model_module_version": "1.2.0",
      "_model_name": "LayoutModel",
      "_view_count": null,
      "_view_module": "@jupyter-widgets/base",
      "_view_module_version": "1.2.0",
      "_view_name": "LayoutView",
      "align_content": null,
      "align_items": null,
      "align_self": null,
      "border": null,
      "bottom": null,
      "display": null,
      "flex": null,
      "flex_flow": null,
      "grid_area": null,
      "grid_auto_columns": null,
      "grid_auto_flow": null,
      "grid_auto_rows": null,
      "grid_column": null,
      "grid_gap": null,
      "grid_row": null,
      "grid_template_areas": null,
      "grid_template_columns": null,
      "grid_template_rows": null,
      "height": null,
      "justify_content": null,
      "justify_items": null,
      "left": null,
      "margin": null,
      "max_height": null,
      "max_width": null,
      "min_height": null,
      "min_width": null,
      "object_fit": null,
      "object_position": null,
      "order": null,
      "overflow": null,
      "overflow_x": null,
      "overflow_y": null,
      "padding": null,
      "right": null,
      "top": null,
      "visibility": null,
      "width": null
     }
    },
    "37847bbdd79c49e0b9ece7a0aba2b796": {
     "model_module": "@jupyter-widgets/base",
     "model_module_version": "1.2.0",
     "model_name": "LayoutModel",
     "state": {
      "_model_module": "@jupyter-widgets/base",
      "_model_module_version": "1.2.0",
      "_model_name": "LayoutModel",
      "_view_count": null,
      "_view_module": "@jupyter-widgets/base",
      "_view_module_version": "1.2.0",
      "_view_name": "LayoutView",
      "align_content": null,
      "align_items": null,
      "align_self": null,
      "border": null,
      "bottom": null,
      "display": null,
      "flex": null,
      "flex_flow": null,
      "grid_area": null,
      "grid_auto_columns": null,
      "grid_auto_flow": null,
      "grid_auto_rows": null,
      "grid_column": null,
      "grid_gap": null,
      "grid_row": null,
      "grid_template_areas": null,
      "grid_template_columns": null,
      "grid_template_rows": null,
      "height": null,
      "justify_content": null,
      "justify_items": null,
      "left": null,
      "margin": null,
      "max_height": null,
      "max_width": null,
      "min_height": null,
      "min_width": null,
      "object_fit": null,
      "object_position": null,
      "order": null,
      "overflow": null,
      "overflow_x": null,
      "overflow_y": null,
      "padding": null,
      "right": null,
      "top": null,
      "visibility": null,
      "width": null
     }
    },
    "3ae830ad2e02411aaee42df4272449ed": {
     "model_module": "@jupyter-widgets/controls",
     "model_module_version": "1.5.0",
     "model_name": "HBoxModel",
     "state": {
      "_dom_classes": [],
      "_model_module": "@jupyter-widgets/controls",
      "_model_module_version": "1.5.0",
      "_model_name": "HBoxModel",
      "_view_count": null,
      "_view_module": "@jupyter-widgets/controls",
      "_view_module_version": "1.5.0",
      "_view_name": "HBoxView",
      "box_style": "",
      "children": [
       "IPY_MODEL_23194aca7e5145a589d62a4fb1497fa3",
       "IPY_MODEL_00099852aa9144cca57f6a7f76b2a84a",
       "IPY_MODEL_d5276cc7f5584af7a0c7844e2e2e7e22"
      ],
      "layout": "IPY_MODEL_976b30f844c94f35a872da8c3a768743"
     }
    },
    "3b20d1aea43a4edeb5e95fee9b048563": {
     "model_module": "@jupyter-widgets/controls",
     "model_module_version": "1.5.0",
     "model_name": "FloatProgressModel",
     "state": {
      "_dom_classes": [],
      "_model_module": "@jupyter-widgets/controls",
      "_model_module_version": "1.5.0",
      "_model_name": "FloatProgressModel",
      "_view_count": null,
      "_view_module": "@jupyter-widgets/controls",
      "_view_module_version": "1.5.0",
      "_view_name": "ProgressView",
      "bar_style": "success",
      "description": "",
      "description_tooltip": null,
      "layout": "IPY_MODEL_f829d28e51934c49983b21eed84fc413",
      "max": 16000,
      "min": 0,
      "orientation": "horizontal",
      "style": "IPY_MODEL_f95ab1e5cdae4c49be61e5b46f47de12",
      "value": 16000
     }
    },
    "46de149aa1c141b49be26de8cb8f44a2": {
     "model_module": "@jupyter-widgets/base",
     "model_module_version": "1.2.0",
     "model_name": "LayoutModel",
     "state": {
      "_model_module": "@jupyter-widgets/base",
      "_model_module_version": "1.2.0",
      "_model_name": "LayoutModel",
      "_view_count": null,
      "_view_module": "@jupyter-widgets/base",
      "_view_module_version": "1.2.0",
      "_view_name": "LayoutView",
      "align_content": null,
      "align_items": null,
      "align_self": null,
      "border": null,
      "bottom": null,
      "display": null,
      "flex": null,
      "flex_flow": null,
      "grid_area": null,
      "grid_auto_columns": null,
      "grid_auto_flow": null,
      "grid_auto_rows": null,
      "grid_column": null,
      "grid_gap": null,
      "grid_row": null,
      "grid_template_areas": null,
      "grid_template_columns": null,
      "grid_template_rows": null,
      "height": null,
      "justify_content": null,
      "justify_items": null,
      "left": null,
      "margin": null,
      "max_height": null,
      "max_width": null,
      "min_height": null,
      "min_width": null,
      "object_fit": null,
      "object_position": null,
      "order": null,
      "overflow": null,
      "overflow_x": null,
      "overflow_y": null,
      "padding": null,
      "right": null,
      "top": null,
      "visibility": null,
      "width": null
     }
    },
    "47b2c07d43bf48ba9d2d285871aa8dba": {
     "model_module": "@jupyter-widgets/controls",
     "model_module_version": "1.5.0",
     "model_name": "HTMLModel",
     "state": {
      "_dom_classes": [],
      "_model_module": "@jupyter-widgets/controls",
      "_model_module_version": "1.5.0",
      "_model_name": "HTMLModel",
      "_view_count": null,
      "_view_module": "@jupyter-widgets/controls",
      "_view_module_version": "1.5.0",
      "_view_name": "HTMLView",
      "description": "",
      "description_tooltip": null,
      "layout": "IPY_MODEL_6cba5ccc05b846d481f1b2c11d94e870",
      "placeholder": "​",
      "style": "IPY_MODEL_9c06a47f3a5748b6a87d633051f96d05",
      "value": "100%"
     }
    },
    "490cf00b06fc4a7c8ba7f66e706a361c": {
     "model_module": "@jupyter-widgets/controls",
     "model_module_version": "1.5.0",
     "model_name": "ProgressStyleModel",
     "state": {
      "_model_module": "@jupyter-widgets/controls",
      "_model_module_version": "1.5.0",
      "_model_name": "ProgressStyleModel",
      "_view_count": null,
      "_view_module": "@jupyter-widgets/base",
      "_view_module_version": "1.2.0",
      "_view_name": "StyleView",
      "bar_color": null,
      "description_width": ""
     }
    },
    "4a5f79bdb1e14810b1887e6a706e5a30": {
     "model_module": "@jupyter-widgets/controls",
     "model_module_version": "1.5.0",
     "model_name": "HBoxModel",
     "state": {
      "_dom_classes": [],
      "_model_module": "@jupyter-widgets/controls",
      "_model_module_version": "1.5.0",
      "_model_name": "HBoxModel",
      "_view_count": null,
      "_view_module": "@jupyter-widgets/controls",
      "_view_module_version": "1.5.0",
      "_view_name": "HBoxView",
      "box_style": "",
      "children": [
       "IPY_MODEL_47b2c07d43bf48ba9d2d285871aa8dba",
       "IPY_MODEL_5b15a4f54aaa4e8c9b8e21e59e9e8463",
       "IPY_MODEL_6e15bcb8d4df4dd1a805e37801e26edd"
      ],
      "layout": "IPY_MODEL_c1b14058a2fc46209c7e1120885074c8"
     }
    },
    "51cdba52bfd941dab913957bdcc5505c": {
     "model_module": "@jupyter-widgets/controls",
     "model_module_version": "1.5.0",
     "model_name": "HTMLModel",
     "state": {
      "_dom_classes": [],
      "_model_module": "@jupyter-widgets/controls",
      "_model_module_version": "1.5.0",
      "_model_name": "HTMLModel",
      "_view_count": null,
      "_view_module": "@jupyter-widgets/controls",
      "_view_module_version": "1.5.0",
      "_view_name": "HTMLView",
      "description": "",
      "description_tooltip": null,
      "layout": "IPY_MODEL_ff242245fe264accb97fca607f55d77d",
      "placeholder": "​",
      "style": "IPY_MODEL_a3dd4af12e0247b89ad2eb623f406994",
      "value": " 16000/16000 [00:00&lt;00:00, 48408.20it/s]"
     }
    },
    "52500a59dc6e4af581acced1b4bc9357": {
     "model_module": "@jupyter-widgets/controls",
     "model_module_version": "1.5.0",
     "model_name": "HTMLModel",
     "state": {
      "_dom_classes": [],
      "_model_module": "@jupyter-widgets/controls",
      "_model_module_version": "1.5.0",
      "_model_name": "HTMLModel",
      "_view_count": null,
      "_view_module": "@jupyter-widgets/controls",
      "_view_module_version": "1.5.0",
      "_view_name": "HTMLView",
      "description": "",
      "description_tooltip": null,
      "layout": "IPY_MODEL_1ae3b6adddc044899131b907b2fa13d5",
      "placeholder": "​",
      "style": "IPY_MODEL_0c32c34e5c754ad9b3043798829cb487",
      "value": "100%"
     }
    },
    "53d4ac9214694d1b9b37489f598bf17f": {
     "model_module": "@jupyter-widgets/base",
     "model_module_version": "1.2.0",
     "model_name": "LayoutModel",
     "state": {
      "_model_module": "@jupyter-widgets/base",
      "_model_module_version": "1.2.0",
      "_model_name": "LayoutModel",
      "_view_count": null,
      "_view_module": "@jupyter-widgets/base",
      "_view_module_version": "1.2.0",
      "_view_name": "LayoutView",
      "align_content": null,
      "align_items": null,
      "align_self": null,
      "border": null,
      "bottom": null,
      "display": null,
      "flex": null,
      "flex_flow": null,
      "grid_area": null,
      "grid_auto_columns": null,
      "grid_auto_flow": null,
      "grid_auto_rows": null,
      "grid_column": null,
      "grid_gap": null,
      "grid_row": null,
      "grid_template_areas": null,
      "grid_template_columns": null,
      "grid_template_rows": null,
      "height": null,
      "justify_content": null,
      "justify_items": null,
      "left": null,
      "margin": null,
      "max_height": null,
      "max_width": null,
      "min_height": null,
      "min_width": null,
      "object_fit": null,
      "object_position": null,
      "order": null,
      "overflow": null,
      "overflow_x": null,
      "overflow_y": null,
      "padding": null,
      "right": null,
      "top": null,
      "visibility": null,
      "width": null
     }
    },
    "56f949a434b74e1f8e06a8c344098282": {
     "model_module": "@jupyter-widgets/controls",
     "model_module_version": "1.5.0",
     "model_name": "HTMLModel",
     "state": {
      "_dom_classes": [],
      "_model_module": "@jupyter-widgets/controls",
      "_model_module_version": "1.5.0",
      "_model_name": "HTMLModel",
      "_view_count": null,
      "_view_module": "@jupyter-widgets/controls",
      "_view_module_version": "1.5.0",
      "_view_name": "HTMLView",
      "description": "",
      "description_tooltip": null,
      "layout": "IPY_MODEL_c9c85d2487c647f894cafb911acfeb35",
      "placeholder": "​",
      "style": "IPY_MODEL_f35d1159d37249d190b0aa7a2d5dc97e",
      "value": " 16000/16000 [00:03&lt;00:00, 4278.79it/s]"
     }
    },
    "59fcca0868bb4a79a929caf3a4263352": {
     "model_module": "@jupyter-widgets/controls",
     "model_module_version": "1.5.0",
     "model_name": "FloatProgressModel",
     "state": {
      "_dom_classes": [],
      "_model_module": "@jupyter-widgets/controls",
      "_model_module_version": "1.5.0",
      "_model_name": "FloatProgressModel",
      "_view_count": null,
      "_view_module": "@jupyter-widgets/controls",
      "_view_module_version": "1.5.0",
      "_view_name": "ProgressView",
      "bar_style": "success",
      "description": "",
      "description_tooltip": null,
      "layout": "IPY_MODEL_8309019da5e84e3d808e412f69cd82d5",
      "max": 16000,
      "min": 0,
      "orientation": "horizontal",
      "style": "IPY_MODEL_85d028065a364e949bd46a9128f86c1f",
      "value": 16000
     }
    },
    "5b15a4f54aaa4e8c9b8e21e59e9e8463": {
     "model_module": "@jupyter-widgets/controls",
     "model_module_version": "1.5.0",
     "model_name": "FloatProgressModel",
     "state": {
      "_dom_classes": [],
      "_model_module": "@jupyter-widgets/controls",
      "_model_module_version": "1.5.0",
      "_model_name": "FloatProgressModel",
      "_view_count": null,
      "_view_module": "@jupyter-widgets/controls",
      "_view_module_version": "1.5.0",
      "_view_name": "ProgressView",
      "bar_style": "success",
      "description": "",
      "description_tooltip": null,
      "layout": "IPY_MODEL_058ff05abad94c4faa927828547dd40d",
      "max": 16000,
      "min": 0,
      "orientation": "horizontal",
      "style": "IPY_MODEL_490cf00b06fc4a7c8ba7f66e706a361c",
      "value": 16000
     }
    },
    "6387a53ef0334e85801c5221b6812524": {
     "model_module": "@jupyter-widgets/controls",
     "model_module_version": "1.5.0",
     "model_name": "HBoxModel",
     "state": {
      "_dom_classes": [],
      "_model_module": "@jupyter-widgets/controls",
      "_model_module_version": "1.5.0",
      "_model_name": "HBoxModel",
      "_view_count": null,
      "_view_module": "@jupyter-widgets/controls",
      "_view_module_version": "1.5.0",
      "_view_name": "HBoxView",
      "box_style": "",
      "children": [
       "IPY_MODEL_d23b2982cbec4600a205306215cef20d",
       "IPY_MODEL_3b20d1aea43a4edeb5e95fee9b048563",
       "IPY_MODEL_56f949a434b74e1f8e06a8c344098282"
      ],
      "layout": "IPY_MODEL_a807b72a8561423ca569330365cba92d"
     }
    },
    "6c99384083cb4a6f815ffbd56088e0b5": {
     "model_module": "@jupyter-widgets/controls",
     "model_module_version": "1.5.0",
     "model_name": "HBoxModel",
     "state": {
      "_dom_classes": [],
      "_model_module": "@jupyter-widgets/controls",
      "_model_module_version": "1.5.0",
      "_model_name": "HBoxModel",
      "_view_count": null,
      "_view_module": "@jupyter-widgets/controls",
      "_view_module_version": "1.5.0",
      "_view_name": "HBoxView",
      "box_style": "",
      "children": [
       "IPY_MODEL_05498ef155df470482648b24a139214e",
       "IPY_MODEL_59fcca0868bb4a79a929caf3a4263352",
       "IPY_MODEL_232bc99f85d048ed8aa3ebecc90e30fa"
      ],
      "layout": "IPY_MODEL_937f5bdb5df04bdca2125383ac6cb52c"
     }
    },
    "6cba5ccc05b846d481f1b2c11d94e870": {
     "model_module": "@jupyter-widgets/base",
     "model_module_version": "1.2.0",
     "model_name": "LayoutModel",
     "state": {
      "_model_module": "@jupyter-widgets/base",
      "_model_module_version": "1.2.0",
      "_model_name": "LayoutModel",
      "_view_count": null,
      "_view_module": "@jupyter-widgets/base",
      "_view_module_version": "1.2.0",
      "_view_name": "LayoutView",
      "align_content": null,
      "align_items": null,
      "align_self": null,
      "border": null,
      "bottom": null,
      "display": null,
      "flex": null,
      "flex_flow": null,
      "grid_area": null,
      "grid_auto_columns": null,
      "grid_auto_flow": null,
      "grid_auto_rows": null,
      "grid_column": null,
      "grid_gap": null,
      "grid_row": null,
      "grid_template_areas": null,
      "grid_template_columns": null,
      "grid_template_rows": null,
      "height": null,
      "justify_content": null,
      "justify_items": null,
      "left": null,
      "margin": null,
      "max_height": null,
      "max_width": null,
      "min_height": null,
      "min_width": null,
      "object_fit": null,
      "object_position": null,
      "order": null,
      "overflow": null,
      "overflow_x": null,
      "overflow_y": null,
      "padding": null,
      "right": null,
      "top": null,
      "visibility": null,
      "width": null
     }
    },
    "6e15bcb8d4df4dd1a805e37801e26edd": {
     "model_module": "@jupyter-widgets/controls",
     "model_module_version": "1.5.0",
     "model_name": "HTMLModel",
     "state": {
      "_dom_classes": [],
      "_model_module": "@jupyter-widgets/controls",
      "_model_module_version": "1.5.0",
      "_model_name": "HTMLModel",
      "_view_count": null,
      "_view_module": "@jupyter-widgets/controls",
      "_view_module_version": "1.5.0",
      "_view_name": "HTMLView",
      "description": "",
      "description_tooltip": null,
      "layout": "IPY_MODEL_37847bbdd79c49e0b9ece7a0aba2b796",
      "placeholder": "​",
      "style": "IPY_MODEL_e0665091f94e4d748c1814ec0a80c260",
      "value": " 16000/16000 [00:00&lt;00:00, 56639.38it/s]"
     }
    },
    "7385b4a492fd43d89039bfccd1864bdd": {
     "model_module": "@jupyter-widgets/controls",
     "model_module_version": "1.5.0",
     "model_name": "HTMLModel",
     "state": {
      "_dom_classes": [],
      "_model_module": "@jupyter-widgets/controls",
      "_model_module_version": "1.5.0",
      "_model_name": "HTMLModel",
      "_view_count": null,
      "_view_module": "@jupyter-widgets/controls",
      "_view_module_version": "1.5.0",
      "_view_name": "HTMLView",
      "description": "",
      "description_tooltip": null,
      "layout": "IPY_MODEL_18865bad57bb4ea6ad73d5166f0ec973",
      "placeholder": "​",
      "style": "IPY_MODEL_ae8c1973d32848a38d621a42ab7273ae",
      "value": "100%"
     }
    },
    "73d70b30ef024da08cd430221e1673a4": {
     "model_module": "@jupyter-widgets/controls",
     "model_module_version": "1.5.0",
     "model_name": "DescriptionStyleModel",
     "state": {
      "_model_module": "@jupyter-widgets/controls",
      "_model_module_version": "1.5.0",
      "_model_name": "DescriptionStyleModel",
      "_view_count": null,
      "_view_module": "@jupyter-widgets/base",
      "_view_module_version": "1.2.0",
      "_view_name": "StyleView",
      "description_width": ""
     }
    },
    "73f94261ed8f4342ba0ef7f71caff296": {
     "model_module": "@jupyter-widgets/base",
     "model_module_version": "1.2.0",
     "model_name": "LayoutModel",
     "state": {
      "_model_module": "@jupyter-widgets/base",
      "_model_module_version": "1.2.0",
      "_model_name": "LayoutModel",
      "_view_count": null,
      "_view_module": "@jupyter-widgets/base",
      "_view_module_version": "1.2.0",
      "_view_name": "LayoutView",
      "align_content": null,
      "align_items": null,
      "align_self": null,
      "border": null,
      "bottom": null,
      "display": null,
      "flex": null,
      "flex_flow": null,
      "grid_area": null,
      "grid_auto_columns": null,
      "grid_auto_flow": null,
      "grid_auto_rows": null,
      "grid_column": null,
      "grid_gap": null,
      "grid_row": null,
      "grid_template_areas": null,
      "grid_template_columns": null,
      "grid_template_rows": null,
      "height": null,
      "justify_content": null,
      "justify_items": null,
      "left": null,
      "margin": null,
      "max_height": null,
      "max_width": null,
      "min_height": null,
      "min_width": null,
      "object_fit": null,
      "object_position": null,
      "order": null,
      "overflow": null,
      "overflow_x": null,
      "overflow_y": null,
      "padding": null,
      "right": null,
      "top": null,
      "visibility": null,
      "width": null
     }
    },
    "7579c4919a474e3aac3041415a4f7b7b": {
     "model_module": "@jupyter-widgets/controls",
     "model_module_version": "1.5.0",
     "model_name": "HTMLModel",
     "state": {
      "_dom_classes": [],
      "_model_module": "@jupyter-widgets/controls",
      "_model_module_version": "1.5.0",
      "_model_name": "HTMLModel",
      "_view_count": null,
      "_view_module": "@jupyter-widgets/controls",
      "_view_module_version": "1.5.0",
      "_view_name": "HTMLView",
      "description": "",
      "description_tooltip": null,
      "layout": "IPY_MODEL_323150eb7c554a5d9a9356da58ab1bb0",
      "placeholder": "​",
      "style": "IPY_MODEL_c84c130ff82b42e2b16e5e2d54de3670",
      "value": "100%"
     }
    },
    "7e21252b4e42458b88f6ca07dc30fbd6": {
     "model_module": "@jupyter-widgets/controls",
     "model_module_version": "1.5.0",
     "model_name": "DescriptionStyleModel",
     "state": {
      "_model_module": "@jupyter-widgets/controls",
      "_model_module_version": "1.5.0",
      "_model_name": "DescriptionStyleModel",
      "_view_count": null,
      "_view_module": "@jupyter-widgets/base",
      "_view_module_version": "1.2.0",
      "_view_name": "StyleView",
      "description_width": ""
     }
    },
    "8077bf47c7a644828c4c97f00731ea20": {
     "model_module": "@jupyter-widgets/controls",
     "model_module_version": "1.5.0",
     "model_name": "DescriptionStyleModel",
     "state": {
      "_model_module": "@jupyter-widgets/controls",
      "_model_module_version": "1.5.0",
      "_model_name": "DescriptionStyleModel",
      "_view_count": null,
      "_view_module": "@jupyter-widgets/base",
      "_view_module_version": "1.2.0",
      "_view_name": "StyleView",
      "description_width": ""
     }
    },
    "815a03ba70c64e7d93c4c5c1cf6df158": {
     "model_module": "@jupyter-widgets/base",
     "model_module_version": "1.2.0",
     "model_name": "LayoutModel",
     "state": {
      "_model_module": "@jupyter-widgets/base",
      "_model_module_version": "1.2.0",
      "_model_name": "LayoutModel",
      "_view_count": null,
      "_view_module": "@jupyter-widgets/base",
      "_view_module_version": "1.2.0",
      "_view_name": "LayoutView",
      "align_content": null,
      "align_items": null,
      "align_self": null,
      "border": null,
      "bottom": null,
      "display": null,
      "flex": null,
      "flex_flow": null,
      "grid_area": null,
      "grid_auto_columns": null,
      "grid_auto_flow": null,
      "grid_auto_rows": null,
      "grid_column": null,
      "grid_gap": null,
      "grid_row": null,
      "grid_template_areas": null,
      "grid_template_columns": null,
      "grid_template_rows": null,
      "height": null,
      "justify_content": null,
      "justify_items": null,
      "left": null,
      "margin": null,
      "max_height": null,
      "max_width": null,
      "min_height": null,
      "min_width": null,
      "object_fit": null,
      "object_position": null,
      "order": null,
      "overflow": null,
      "overflow_x": null,
      "overflow_y": null,
      "padding": null,
      "right": null,
      "top": null,
      "visibility": null,
      "width": null
     }
    },
    "8309019da5e84e3d808e412f69cd82d5": {
     "model_module": "@jupyter-widgets/base",
     "model_module_version": "1.2.0",
     "model_name": "LayoutModel",
     "state": {
      "_model_module": "@jupyter-widgets/base",
      "_model_module_version": "1.2.0",
      "_model_name": "LayoutModel",
      "_view_count": null,
      "_view_module": "@jupyter-widgets/base",
      "_view_module_version": "1.2.0",
      "_view_name": "LayoutView",
      "align_content": null,
      "align_items": null,
      "align_self": null,
      "border": null,
      "bottom": null,
      "display": null,
      "flex": null,
      "flex_flow": null,
      "grid_area": null,
      "grid_auto_columns": null,
      "grid_auto_flow": null,
      "grid_auto_rows": null,
      "grid_column": null,
      "grid_gap": null,
      "grid_row": null,
      "grid_template_areas": null,
      "grid_template_columns": null,
      "grid_template_rows": null,
      "height": null,
      "justify_content": null,
      "justify_items": null,
      "left": null,
      "margin": null,
      "max_height": null,
      "max_width": null,
      "min_height": null,
      "min_width": null,
      "object_fit": null,
      "object_position": null,
      "order": null,
      "overflow": null,
      "overflow_x": null,
      "overflow_y": null,
      "padding": null,
      "right": null,
      "top": null,
      "visibility": null,
      "width": null
     }
    },
    "85d028065a364e949bd46a9128f86c1f": {
     "model_module": "@jupyter-widgets/controls",
     "model_module_version": "1.5.0",
     "model_name": "ProgressStyleModel",
     "state": {
      "_model_module": "@jupyter-widgets/controls",
      "_model_module_version": "1.5.0",
      "_model_name": "ProgressStyleModel",
      "_view_count": null,
      "_view_module": "@jupyter-widgets/base",
      "_view_module_version": "1.2.0",
      "_view_name": "StyleView",
      "bar_color": null,
      "description_width": ""
     }
    },
    "875692fd0f2a477fb452ff910e740284": {
     "model_module": "@jupyter-widgets/controls",
     "model_module_version": "1.5.0",
     "model_name": "ProgressStyleModel",
     "state": {
      "_model_module": "@jupyter-widgets/controls",
      "_model_module_version": "1.5.0",
      "_model_name": "ProgressStyleModel",
      "_view_count": null,
      "_view_module": "@jupyter-widgets/base",
      "_view_module_version": "1.2.0",
      "_view_name": "StyleView",
      "bar_color": null,
      "description_width": ""
     }
    },
    "88a17bca0ac045518da90d8a40324efc": {
     "model_module": "@jupyter-widgets/base",
     "model_module_version": "1.2.0",
     "model_name": "LayoutModel",
     "state": {
      "_model_module": "@jupyter-widgets/base",
      "_model_module_version": "1.2.0",
      "_model_name": "LayoutModel",
      "_view_count": null,
      "_view_module": "@jupyter-widgets/base",
      "_view_module_version": "1.2.0",
      "_view_name": "LayoutView",
      "align_content": null,
      "align_items": null,
      "align_self": null,
      "border": null,
      "bottom": null,
      "display": null,
      "flex": null,
      "flex_flow": null,
      "grid_area": null,
      "grid_auto_columns": null,
      "grid_auto_flow": null,
      "grid_auto_rows": null,
      "grid_column": null,
      "grid_gap": null,
      "grid_row": null,
      "grid_template_areas": null,
      "grid_template_columns": null,
      "grid_template_rows": null,
      "height": null,
      "justify_content": null,
      "justify_items": null,
      "left": null,
      "margin": null,
      "max_height": null,
      "max_width": null,
      "min_height": null,
      "min_width": null,
      "object_fit": null,
      "object_position": null,
      "order": null,
      "overflow": null,
      "overflow_x": null,
      "overflow_y": null,
      "padding": null,
      "right": null,
      "top": null,
      "visibility": null,
      "width": null
     }
    },
    "8b01911f629043d6a31e31ff5fce8b5b": {
     "model_module": "@jupyter-widgets/base",
     "model_module_version": "1.2.0",
     "model_name": "LayoutModel",
     "state": {
      "_model_module": "@jupyter-widgets/base",
      "_model_module_version": "1.2.0",
      "_model_name": "LayoutModel",
      "_view_count": null,
      "_view_module": "@jupyter-widgets/base",
      "_view_module_version": "1.2.0",
      "_view_name": "LayoutView",
      "align_content": null,
      "align_items": null,
      "align_self": null,
      "border": null,
      "bottom": null,
      "display": null,
      "flex": null,
      "flex_flow": null,
      "grid_area": null,
      "grid_auto_columns": null,
      "grid_auto_flow": null,
      "grid_auto_rows": null,
      "grid_column": null,
      "grid_gap": null,
      "grid_row": null,
      "grid_template_areas": null,
      "grid_template_columns": null,
      "grid_template_rows": null,
      "height": null,
      "justify_content": null,
      "justify_items": null,
      "left": null,
      "margin": null,
      "max_height": null,
      "max_width": null,
      "min_height": null,
      "min_width": null,
      "object_fit": null,
      "object_position": null,
      "order": null,
      "overflow": null,
      "overflow_x": null,
      "overflow_y": null,
      "padding": null,
      "right": null,
      "top": null,
      "visibility": null,
      "width": null
     }
    },
    "8f297503011c44eca3bc66f70aec53a9": {
     "model_module": "@jupyter-widgets/base",
     "model_module_version": "1.2.0",
     "model_name": "LayoutModel",
     "state": {
      "_model_module": "@jupyter-widgets/base",
      "_model_module_version": "1.2.0",
      "_model_name": "LayoutModel",
      "_view_count": null,
      "_view_module": "@jupyter-widgets/base",
      "_view_module_version": "1.2.0",
      "_view_name": "LayoutView",
      "align_content": null,
      "align_items": null,
      "align_self": null,
      "border": null,
      "bottom": null,
      "display": null,
      "flex": null,
      "flex_flow": null,
      "grid_area": null,
      "grid_auto_columns": null,
      "grid_auto_flow": null,
      "grid_auto_rows": null,
      "grid_column": null,
      "grid_gap": null,
      "grid_row": null,
      "grid_template_areas": null,
      "grid_template_columns": null,
      "grid_template_rows": null,
      "height": null,
      "justify_content": null,
      "justify_items": null,
      "left": null,
      "margin": null,
      "max_height": null,
      "max_width": null,
      "min_height": null,
      "min_width": null,
      "object_fit": null,
      "object_position": null,
      "order": null,
      "overflow": null,
      "overflow_x": null,
      "overflow_y": null,
      "padding": null,
      "right": null,
      "top": null,
      "visibility": null,
      "width": null
     }
    },
    "937f5bdb5df04bdca2125383ac6cb52c": {
     "model_module": "@jupyter-widgets/base",
     "model_module_version": "1.2.0",
     "model_name": "LayoutModel",
     "state": {
      "_model_module": "@jupyter-widgets/base",
      "_model_module_version": "1.2.0",
      "_model_name": "LayoutModel",
      "_view_count": null,
      "_view_module": "@jupyter-widgets/base",
      "_view_module_version": "1.2.0",
      "_view_name": "LayoutView",
      "align_content": null,
      "align_items": null,
      "align_self": null,
      "border": null,
      "bottom": null,
      "display": null,
      "flex": null,
      "flex_flow": null,
      "grid_area": null,
      "grid_auto_columns": null,
      "grid_auto_flow": null,
      "grid_auto_rows": null,
      "grid_column": null,
      "grid_gap": null,
      "grid_row": null,
      "grid_template_areas": null,
      "grid_template_columns": null,
      "grid_template_rows": null,
      "height": null,
      "justify_content": null,
      "justify_items": null,
      "left": null,
      "margin": null,
      "max_height": null,
      "max_width": null,
      "min_height": null,
      "min_width": null,
      "object_fit": null,
      "object_position": null,
      "order": null,
      "overflow": null,
      "overflow_x": null,
      "overflow_y": null,
      "padding": null,
      "right": null,
      "top": null,
      "visibility": null,
      "width": null
     }
    },
    "970f058efd724e4780a6a71a185504ec": {
     "model_module": "@jupyter-widgets/controls",
     "model_module_version": "1.5.0",
     "model_name": "HTMLModel",
     "state": {
      "_dom_classes": [],
      "_model_module": "@jupyter-widgets/controls",
      "_model_module_version": "1.5.0",
      "_model_name": "HTMLModel",
      "_view_count": null,
      "_view_module": "@jupyter-widgets/controls",
      "_view_module_version": "1.5.0",
      "_view_name": "HTMLView",
      "description": "",
      "description_tooltip": null,
      "layout": "IPY_MODEL_02ac69bd21f74f579502ae72faf97b25",
      "placeholder": "​",
      "style": "IPY_MODEL_0e596554215f48b29d3668baa620c629",
      "value": " 16000/16000 [00:00&lt;00:00, 185723.24it/s]"
     }
    },
    "976b30f844c94f35a872da8c3a768743": {
     "model_module": "@jupyter-widgets/base",
     "model_module_version": "1.2.0",
     "model_name": "LayoutModel",
     "state": {
      "_model_module": "@jupyter-widgets/base",
      "_model_module_version": "1.2.0",
      "_model_name": "LayoutModel",
      "_view_count": null,
      "_view_module": "@jupyter-widgets/base",
      "_view_module_version": "1.2.0",
      "_view_name": "LayoutView",
      "align_content": null,
      "align_items": null,
      "align_self": null,
      "border": null,
      "bottom": null,
      "display": null,
      "flex": null,
      "flex_flow": null,
      "grid_area": null,
      "grid_auto_columns": null,
      "grid_auto_flow": null,
      "grid_auto_rows": null,
      "grid_column": null,
      "grid_gap": null,
      "grid_row": null,
      "grid_template_areas": null,
      "grid_template_columns": null,
      "grid_template_rows": null,
      "height": null,
      "justify_content": null,
      "justify_items": null,
      "left": null,
      "margin": null,
      "max_height": null,
      "max_width": null,
      "min_height": null,
      "min_width": null,
      "object_fit": null,
      "object_position": null,
      "order": null,
      "overflow": null,
      "overflow_x": null,
      "overflow_y": null,
      "padding": null,
      "right": null,
      "top": null,
      "visibility": null,
      "width": null
     }
    },
    "9c06a47f3a5748b6a87d633051f96d05": {
     "model_module": "@jupyter-widgets/controls",
     "model_module_version": "1.5.0",
     "model_name": "DescriptionStyleModel",
     "state": {
      "_model_module": "@jupyter-widgets/controls",
      "_model_module_version": "1.5.0",
      "_model_name": "DescriptionStyleModel",
      "_view_count": null,
      "_view_module": "@jupyter-widgets/base",
      "_view_module_version": "1.2.0",
      "_view_name": "StyleView",
      "description_width": ""
     }
    },
    "a3dd4af12e0247b89ad2eb623f406994": {
     "model_module": "@jupyter-widgets/controls",
     "model_module_version": "1.5.0",
     "model_name": "DescriptionStyleModel",
     "state": {
      "_model_module": "@jupyter-widgets/controls",
      "_model_module_version": "1.5.0",
      "_model_name": "DescriptionStyleModel",
      "_view_count": null,
      "_view_module": "@jupyter-widgets/base",
      "_view_module_version": "1.2.0",
      "_view_name": "StyleView",
      "description_width": ""
     }
    },
    "a756e036f963449a8c1e19a2e00acfca": {
     "model_module": "@jupyter-widgets/controls",
     "model_module_version": "1.5.0",
     "model_name": "FloatProgressModel",
     "state": {
      "_dom_classes": [],
      "_model_module": "@jupyter-widgets/controls",
      "_model_module_version": "1.5.0",
      "_model_name": "FloatProgressModel",
      "_view_count": null,
      "_view_module": "@jupyter-widgets/controls",
      "_view_module_version": "1.5.0",
      "_view_name": "ProgressView",
      "bar_style": "success",
      "description": "",
      "description_tooltip": null,
      "layout": "IPY_MODEL_53d4ac9214694d1b9b37489f598bf17f",
      "max": 16000,
      "min": 0,
      "orientation": "horizontal",
      "style": "IPY_MODEL_195906ffc25e4fc4b2e782e6c2645dd6",
      "value": 16000
     }
    },
    "a807b72a8561423ca569330365cba92d": {
     "model_module": "@jupyter-widgets/base",
     "model_module_version": "1.2.0",
     "model_name": "LayoutModel",
     "state": {
      "_model_module": "@jupyter-widgets/base",
      "_model_module_version": "1.2.0",
      "_model_name": "LayoutModel",
      "_view_count": null,
      "_view_module": "@jupyter-widgets/base",
      "_view_module_version": "1.2.0",
      "_view_name": "LayoutView",
      "align_content": null,
      "align_items": null,
      "align_self": null,
      "border": null,
      "bottom": null,
      "display": null,
      "flex": null,
      "flex_flow": null,
      "grid_area": null,
      "grid_auto_columns": null,
      "grid_auto_flow": null,
      "grid_auto_rows": null,
      "grid_column": null,
      "grid_gap": null,
      "grid_row": null,
      "grid_template_areas": null,
      "grid_template_columns": null,
      "grid_template_rows": null,
      "height": null,
      "justify_content": null,
      "justify_items": null,
      "left": null,
      "margin": null,
      "max_height": null,
      "max_width": null,
      "min_height": null,
      "min_width": null,
      "object_fit": null,
      "object_position": null,
      "order": null,
      "overflow": null,
      "overflow_x": null,
      "overflow_y": null,
      "padding": null,
      "right": null,
      "top": null,
      "visibility": null,
      "width": null
     }
    },
    "acdbc70311f6427f9552f8e61e978eed": {
     "model_module": "@jupyter-widgets/base",
     "model_module_version": "1.2.0",
     "model_name": "LayoutModel",
     "state": {
      "_model_module": "@jupyter-widgets/base",
      "_model_module_version": "1.2.0",
      "_model_name": "LayoutModel",
      "_view_count": null,
      "_view_module": "@jupyter-widgets/base",
      "_view_module_version": "1.2.0",
      "_view_name": "LayoutView",
      "align_content": null,
      "align_items": null,
      "align_self": null,
      "border": null,
      "bottom": null,
      "display": null,
      "flex": null,
      "flex_flow": null,
      "grid_area": null,
      "grid_auto_columns": null,
      "grid_auto_flow": null,
      "grid_auto_rows": null,
      "grid_column": null,
      "grid_gap": null,
      "grid_row": null,
      "grid_template_areas": null,
      "grid_template_columns": null,
      "grid_template_rows": null,
      "height": null,
      "justify_content": null,
      "justify_items": null,
      "left": null,
      "margin": null,
      "max_height": null,
      "max_width": null,
      "min_height": null,
      "min_width": null,
      "object_fit": null,
      "object_position": null,
      "order": null,
      "overflow": null,
      "overflow_x": null,
      "overflow_y": null,
      "padding": null,
      "right": null,
      "top": null,
      "visibility": null,
      "width": null
     }
    },
    "ae8c1973d32848a38d621a42ab7273ae": {
     "model_module": "@jupyter-widgets/controls",
     "model_module_version": "1.5.0",
     "model_name": "DescriptionStyleModel",
     "state": {
      "_model_module": "@jupyter-widgets/controls",
      "_model_module_version": "1.5.0",
      "_model_name": "DescriptionStyleModel",
      "_view_count": null,
      "_view_module": "@jupyter-widgets/base",
      "_view_module_version": "1.2.0",
      "_view_name": "StyleView",
      "description_width": ""
     }
    },
    "b0009a1c637c4644961c058a7b1e4d87": {
     "model_module": "@jupyter-widgets/base",
     "model_module_version": "1.2.0",
     "model_name": "LayoutModel",
     "state": {
      "_model_module": "@jupyter-widgets/base",
      "_model_module_version": "1.2.0",
      "_model_name": "LayoutModel",
      "_view_count": null,
      "_view_module": "@jupyter-widgets/base",
      "_view_module_version": "1.2.0",
      "_view_name": "LayoutView",
      "align_content": null,
      "align_items": null,
      "align_self": null,
      "border": null,
      "bottom": null,
      "display": null,
      "flex": null,
      "flex_flow": null,
      "grid_area": null,
      "grid_auto_columns": null,
      "grid_auto_flow": null,
      "grid_auto_rows": null,
      "grid_column": null,
      "grid_gap": null,
      "grid_row": null,
      "grid_template_areas": null,
      "grid_template_columns": null,
      "grid_template_rows": null,
      "height": null,
      "justify_content": null,
      "justify_items": null,
      "left": null,
      "margin": null,
      "max_height": null,
      "max_width": null,
      "min_height": null,
      "min_width": null,
      "object_fit": null,
      "object_position": null,
      "order": null,
      "overflow": null,
      "overflow_x": null,
      "overflow_y": null,
      "padding": null,
      "right": null,
      "top": null,
      "visibility": null,
      "width": null
     }
    },
    "b1e7c0c3d68c461b927a306077ec45db": {
     "model_module": "@jupyter-widgets/controls",
     "model_module_version": "1.5.0",
     "model_name": "ProgressStyleModel",
     "state": {
      "_model_module": "@jupyter-widgets/controls",
      "_model_module_version": "1.5.0",
      "_model_name": "ProgressStyleModel",
      "_view_count": null,
      "_view_module": "@jupyter-widgets/base",
      "_view_module_version": "1.2.0",
      "_view_name": "StyleView",
      "bar_color": null,
      "description_width": ""
     }
    },
    "b2c15e871330490c9131cce1506adbb1": {
     "model_module": "@jupyter-widgets/controls",
     "model_module_version": "1.5.0",
     "model_name": "ProgressStyleModel",
     "state": {
      "_model_module": "@jupyter-widgets/controls",
      "_model_module_version": "1.5.0",
      "_model_name": "ProgressStyleModel",
      "_view_count": null,
      "_view_module": "@jupyter-widgets/base",
      "_view_module_version": "1.2.0",
      "_view_name": "StyleView",
      "bar_color": null,
      "description_width": ""
     }
    },
    "bb9fe59275514d59b883ece618b15105": {
     "model_module": "@jupyter-widgets/controls",
     "model_module_version": "1.5.0",
     "model_name": "DescriptionStyleModel",
     "state": {
      "_model_module": "@jupyter-widgets/controls",
      "_model_module_version": "1.5.0",
      "_model_name": "DescriptionStyleModel",
      "_view_count": null,
      "_view_module": "@jupyter-widgets/base",
      "_view_module_version": "1.2.0",
      "_view_name": "StyleView",
      "description_width": ""
     }
    },
    "bf79367b57d24eaab289bebb798368ad": {
     "model_module": "@jupyter-widgets/controls",
     "model_module_version": "1.5.0",
     "model_name": "FloatProgressModel",
     "state": {
      "_dom_classes": [],
      "_model_module": "@jupyter-widgets/controls",
      "_model_module_version": "1.5.0",
      "_model_name": "FloatProgressModel",
      "_view_count": null,
      "_view_module": "@jupyter-widgets/controls",
      "_view_module_version": "1.5.0",
      "_view_name": "ProgressView",
      "bar_style": "success",
      "description": "",
      "description_tooltip": null,
      "layout": "IPY_MODEL_acdbc70311f6427f9552f8e61e978eed",
      "max": 16000,
      "min": 0,
      "orientation": "horizontal",
      "style": "IPY_MODEL_875692fd0f2a477fb452ff910e740284",
      "value": 16000
     }
    },
    "c1b14058a2fc46209c7e1120885074c8": {
     "model_module": "@jupyter-widgets/base",
     "model_module_version": "1.2.0",
     "model_name": "LayoutModel",
     "state": {
      "_model_module": "@jupyter-widgets/base",
      "_model_module_version": "1.2.0",
      "_model_name": "LayoutModel",
      "_view_count": null,
      "_view_module": "@jupyter-widgets/base",
      "_view_module_version": "1.2.0",
      "_view_name": "LayoutView",
      "align_content": null,
      "align_items": null,
      "align_self": null,
      "border": null,
      "bottom": null,
      "display": null,
      "flex": null,
      "flex_flow": null,
      "grid_area": null,
      "grid_auto_columns": null,
      "grid_auto_flow": null,
      "grid_auto_rows": null,
      "grid_column": null,
      "grid_gap": null,
      "grid_row": null,
      "grid_template_areas": null,
      "grid_template_columns": null,
      "grid_template_rows": null,
      "height": null,
      "justify_content": null,
      "justify_items": null,
      "left": null,
      "margin": null,
      "max_height": null,
      "max_width": null,
      "min_height": null,
      "min_width": null,
      "object_fit": null,
      "object_position": null,
      "order": null,
      "overflow": null,
      "overflow_x": null,
      "overflow_y": null,
      "padding": null,
      "right": null,
      "top": null,
      "visibility": null,
      "width": null
     }
    },
    "c84c130ff82b42e2b16e5e2d54de3670": {
     "model_module": "@jupyter-widgets/controls",
     "model_module_version": "1.5.0",
     "model_name": "DescriptionStyleModel",
     "state": {
      "_model_module": "@jupyter-widgets/controls",
      "_model_module_version": "1.5.0",
      "_model_name": "DescriptionStyleModel",
      "_view_count": null,
      "_view_module": "@jupyter-widgets/base",
      "_view_module_version": "1.2.0",
      "_view_name": "StyleView",
      "description_width": ""
     }
    },
    "c9bd63cb74704ca28bb3f2c81a44cf36": {
     "model_module": "@jupyter-widgets/controls",
     "model_module_version": "1.5.0",
     "model_name": "HBoxModel",
     "state": {
      "_dom_classes": [],
      "_model_module": "@jupyter-widgets/controls",
      "_model_module_version": "1.5.0",
      "_model_name": "HBoxModel",
      "_view_count": null,
      "_view_module": "@jupyter-widgets/controls",
      "_view_module_version": "1.5.0",
      "_view_name": "HBoxView",
      "box_style": "",
      "children": [
       "IPY_MODEL_7579c4919a474e3aac3041415a4f7b7b",
       "IPY_MODEL_bf79367b57d24eaab289bebb798368ad",
       "IPY_MODEL_970f058efd724e4780a6a71a185504ec"
      ],
      "layout": "IPY_MODEL_dfad2586bea04bf39f8f7796d2ce25e2"
     }
    },
    "c9c85d2487c647f894cafb911acfeb35": {
     "model_module": "@jupyter-widgets/base",
     "model_module_version": "1.2.0",
     "model_name": "LayoutModel",
     "state": {
      "_model_module": "@jupyter-widgets/base",
      "_model_module_version": "1.2.0",
      "_model_name": "LayoutModel",
      "_view_count": null,
      "_view_module": "@jupyter-widgets/base",
      "_view_module_version": "1.2.0",
      "_view_name": "LayoutView",
      "align_content": null,
      "align_items": null,
      "align_self": null,
      "border": null,
      "bottom": null,
      "display": null,
      "flex": null,
      "flex_flow": null,
      "grid_area": null,
      "grid_auto_columns": null,
      "grid_auto_flow": null,
      "grid_auto_rows": null,
      "grid_column": null,
      "grid_gap": null,
      "grid_row": null,
      "grid_template_areas": null,
      "grid_template_columns": null,
      "grid_template_rows": null,
      "height": null,
      "justify_content": null,
      "justify_items": null,
      "left": null,
      "margin": null,
      "max_height": null,
      "max_width": null,
      "min_height": null,
      "min_width": null,
      "object_fit": null,
      "object_position": null,
      "order": null,
      "overflow": null,
      "overflow_x": null,
      "overflow_y": null,
      "padding": null,
      "right": null,
      "top": null,
      "visibility": null,
      "width": null
     }
    },
    "d23b2982cbec4600a205306215cef20d": {
     "model_module": "@jupyter-widgets/controls",
     "model_module_version": "1.5.0",
     "model_name": "HTMLModel",
     "state": {
      "_dom_classes": [],
      "_model_module": "@jupyter-widgets/controls",
      "_model_module_version": "1.5.0",
      "_model_name": "HTMLModel",
      "_view_count": null,
      "_view_module": "@jupyter-widgets/controls",
      "_view_module_version": "1.5.0",
      "_view_name": "HTMLView",
      "description": "",
      "description_tooltip": null,
      "layout": "IPY_MODEL_8b01911f629043d6a31e31ff5fce8b5b",
      "placeholder": "​",
      "style": "IPY_MODEL_7e21252b4e42458b88f6ca07dc30fbd6",
      "value": "100%"
     }
    },
    "d5276cc7f5584af7a0c7844e2e2e7e22": {
     "model_module": "@jupyter-widgets/controls",
     "model_module_version": "1.5.0",
     "model_name": "HTMLModel",
     "state": {
      "_dom_classes": [],
      "_model_module": "@jupyter-widgets/controls",
      "_model_module_version": "1.5.0",
      "_model_name": "HTMLModel",
      "_view_count": null,
      "_view_module": "@jupyter-widgets/controls",
      "_view_module_version": "1.5.0",
      "_view_name": "HTMLView",
      "description": "",
      "description_tooltip": null,
      "layout": "IPY_MODEL_8f297503011c44eca3bc66f70aec53a9",
      "placeholder": "​",
      "style": "IPY_MODEL_73d70b30ef024da08cd430221e1673a4",
      "value": " 16000/16000 [00:00&lt;00:00, 136239.48it/s]"
     }
    },
    "db85844b4b564fb485c0fb15e72f63eb": {
     "model_module": "@jupyter-widgets/base",
     "model_module_version": "1.2.0",
     "model_name": "LayoutModel",
     "state": {
      "_model_module": "@jupyter-widgets/base",
      "_model_module_version": "1.2.0",
      "_model_name": "LayoutModel",
      "_view_count": null,
      "_view_module": "@jupyter-widgets/base",
      "_view_module_version": "1.2.0",
      "_view_name": "LayoutView",
      "align_content": null,
      "align_items": null,
      "align_self": null,
      "border": null,
      "bottom": null,
      "display": null,
      "flex": null,
      "flex_flow": null,
      "grid_area": null,
      "grid_auto_columns": null,
      "grid_auto_flow": null,
      "grid_auto_rows": null,
      "grid_column": null,
      "grid_gap": null,
      "grid_row": null,
      "grid_template_areas": null,
      "grid_template_columns": null,
      "grid_template_rows": null,
      "height": null,
      "justify_content": null,
      "justify_items": null,
      "left": null,
      "margin": null,
      "max_height": null,
      "max_width": null,
      "min_height": null,
      "min_width": null,
      "object_fit": null,
      "object_position": null,
      "order": null,
      "overflow": null,
      "overflow_x": null,
      "overflow_y": null,
      "padding": null,
      "right": null,
      "top": null,
      "visibility": null,
      "width": null
     }
    },
    "dfad2586bea04bf39f8f7796d2ce25e2": {
     "model_module": "@jupyter-widgets/base",
     "model_module_version": "1.2.0",
     "model_name": "LayoutModel",
     "state": {
      "_model_module": "@jupyter-widgets/base",
      "_model_module_version": "1.2.0",
      "_model_name": "LayoutModel",
      "_view_count": null,
      "_view_module": "@jupyter-widgets/base",
      "_view_module_version": "1.2.0",
      "_view_name": "LayoutView",
      "align_content": null,
      "align_items": null,
      "align_self": null,
      "border": null,
      "bottom": null,
      "display": null,
      "flex": null,
      "flex_flow": null,
      "grid_area": null,
      "grid_auto_columns": null,
      "grid_auto_flow": null,
      "grid_auto_rows": null,
      "grid_column": null,
      "grid_gap": null,
      "grid_row": null,
      "grid_template_areas": null,
      "grid_template_columns": null,
      "grid_template_rows": null,
      "height": null,
      "justify_content": null,
      "justify_items": null,
      "left": null,
      "margin": null,
      "max_height": null,
      "max_width": null,
      "min_height": null,
      "min_width": null,
      "object_fit": null,
      "object_position": null,
      "order": null,
      "overflow": null,
      "overflow_x": null,
      "overflow_y": null,
      "padding": null,
      "right": null,
      "top": null,
      "visibility": null,
      "width": null
     }
    },
    "e0665091f94e4d748c1814ec0a80c260": {
     "model_module": "@jupyter-widgets/controls",
     "model_module_version": "1.5.0",
     "model_name": "DescriptionStyleModel",
     "state": {
      "_model_module": "@jupyter-widgets/controls",
      "_model_module_version": "1.5.0",
      "_model_name": "DescriptionStyleModel",
      "_view_count": null,
      "_view_module": "@jupyter-widgets/base",
      "_view_module_version": "1.2.0",
      "_view_name": "StyleView",
      "description_width": ""
     }
    },
    "e94b986fb26e4c9094e1b94c99553d5e": {
     "model_module": "@jupyter-widgets/controls",
     "model_module_version": "1.5.0",
     "model_name": "DescriptionStyleModel",
     "state": {
      "_model_module": "@jupyter-widgets/controls",
      "_model_module_version": "1.5.0",
      "_model_name": "DescriptionStyleModel",
      "_view_count": null,
      "_view_module": "@jupyter-widgets/base",
      "_view_module_version": "1.2.0",
      "_view_name": "StyleView",
      "description_width": ""
     }
    },
    "f35d1159d37249d190b0aa7a2d5dc97e": {
     "model_module": "@jupyter-widgets/controls",
     "model_module_version": "1.5.0",
     "model_name": "DescriptionStyleModel",
     "state": {
      "_model_module": "@jupyter-widgets/controls",
      "_model_module_version": "1.5.0",
      "_model_name": "DescriptionStyleModel",
      "_view_count": null,
      "_view_module": "@jupyter-widgets/base",
      "_view_module_version": "1.2.0",
      "_view_name": "StyleView",
      "description_width": ""
     }
    },
    "f7339bef2d0d48c8b6868e03ca39bece": {
     "model_module": "@jupyter-widgets/base",
     "model_module_version": "1.2.0",
     "model_name": "LayoutModel",
     "state": {
      "_model_module": "@jupyter-widgets/base",
      "_model_module_version": "1.2.0",
      "_model_name": "LayoutModel",
      "_view_count": null,
      "_view_module": "@jupyter-widgets/base",
      "_view_module_version": "1.2.0",
      "_view_name": "LayoutView",
      "align_content": null,
      "align_items": null,
      "align_self": null,
      "border": null,
      "bottom": null,
      "display": null,
      "flex": null,
      "flex_flow": null,
      "grid_area": null,
      "grid_auto_columns": null,
      "grid_auto_flow": null,
      "grid_auto_rows": null,
      "grid_column": null,
      "grid_gap": null,
      "grid_row": null,
      "grid_template_areas": null,
      "grid_template_columns": null,
      "grid_template_rows": null,
      "height": null,
      "justify_content": null,
      "justify_items": null,
      "left": null,
      "margin": null,
      "max_height": null,
      "max_width": null,
      "min_height": null,
      "min_width": null,
      "object_fit": null,
      "object_position": null,
      "order": null,
      "overflow": null,
      "overflow_x": null,
      "overflow_y": null,
      "padding": null,
      "right": null,
      "top": null,
      "visibility": null,
      "width": null
     }
    },
    "f829d28e51934c49983b21eed84fc413": {
     "model_module": "@jupyter-widgets/base",
     "model_module_version": "1.2.0",
     "model_name": "LayoutModel",
     "state": {
      "_model_module": "@jupyter-widgets/base",
      "_model_module_version": "1.2.0",
      "_model_name": "LayoutModel",
      "_view_count": null,
      "_view_module": "@jupyter-widgets/base",
      "_view_module_version": "1.2.0",
      "_view_name": "LayoutView",
      "align_content": null,
      "align_items": null,
      "align_self": null,
      "border": null,
      "bottom": null,
      "display": null,
      "flex": null,
      "flex_flow": null,
      "grid_area": null,
      "grid_auto_columns": null,
      "grid_auto_flow": null,
      "grid_auto_rows": null,
      "grid_column": null,
      "grid_gap": null,
      "grid_row": null,
      "grid_template_areas": null,
      "grid_template_columns": null,
      "grid_template_rows": null,
      "height": null,
      "justify_content": null,
      "justify_items": null,
      "left": null,
      "margin": null,
      "max_height": null,
      "max_width": null,
      "min_height": null,
      "min_width": null,
      "object_fit": null,
      "object_position": null,
      "order": null,
      "overflow": null,
      "overflow_x": null,
      "overflow_y": null,
      "padding": null,
      "right": null,
      "top": null,
      "visibility": null,
      "width": null
     }
    },
    "f8674bcf86de4810abeaeda6c85d5205": {
     "model_module": "@jupyter-widgets/controls",
     "model_module_version": "1.5.0",
     "model_name": "DescriptionStyleModel",
     "state": {
      "_model_module": "@jupyter-widgets/controls",
      "_model_module_version": "1.5.0",
      "_model_name": "DescriptionStyleModel",
      "_view_count": null,
      "_view_module": "@jupyter-widgets/base",
      "_view_module_version": "1.2.0",
      "_view_name": "StyleView",
      "description_width": ""
     }
    },
    "f95ab1e5cdae4c49be61e5b46f47de12": {
     "model_module": "@jupyter-widgets/controls",
     "model_module_version": "1.5.0",
     "model_name": "ProgressStyleModel",
     "state": {
      "_model_module": "@jupyter-widgets/controls",
      "_model_module_version": "1.5.0",
      "_model_name": "ProgressStyleModel",
      "_view_count": null,
      "_view_module": "@jupyter-widgets/base",
      "_view_module_version": "1.2.0",
      "_view_name": "StyleView",
      "bar_color": null,
      "description_width": ""
     }
    },
    "ff242245fe264accb97fca607f55d77d": {
     "model_module": "@jupyter-widgets/base",
     "model_module_version": "1.2.0",
     "model_name": "LayoutModel",
     "state": {
      "_model_module": "@jupyter-widgets/base",
      "_model_module_version": "1.2.0",
      "_model_name": "LayoutModel",
      "_view_count": null,
      "_view_module": "@jupyter-widgets/base",
      "_view_module_version": "1.2.0",
      "_view_name": "LayoutView",
      "align_content": null,
      "align_items": null,
      "align_self": null,
      "border": null,
      "bottom": null,
      "display": null,
      "flex": null,
      "flex_flow": null,
      "grid_area": null,
      "grid_auto_columns": null,
      "grid_auto_flow": null,
      "grid_auto_rows": null,
      "grid_column": null,
      "grid_gap": null,
      "grid_row": null,
      "grid_template_areas": null,
      "grid_template_columns": null,
      "grid_template_rows": null,
      "height": null,
      "justify_content": null,
      "justify_items": null,
      "left": null,
      "margin": null,
      "max_height": null,
      "max_width": null,
      "min_height": null,
      "min_width": null,
      "object_fit": null,
      "object_position": null,
      "order": null,
      "overflow": null,
      "overflow_x": null,
      "overflow_y": null,
      "padding": null,
      "right": null,
      "top": null,
      "visibility": null,
      "width": null
     }
    }
   }
  }
 },
 "nbformat": 4,
 "nbformat_minor": 1
}
